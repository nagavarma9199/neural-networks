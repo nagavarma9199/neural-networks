{
  "nbformat": 4,
  "nbformat_minor": 0,
  "metadata": {
    "colab": {
      "provenance": [],
      "include_colab_link": true
    },
    "kernelspec": {
      "name": "python3",
      "display_name": "Python 3"
    },
    "language_info": {
      "name": "python"
    }
  },
  "cells": [
    {
      "cell_type": "markdown",
      "metadata": {
        "id": "view-in-github",
        "colab_type": "text"
      },
      "source": [
        "<a href=\"https://colab.research.google.com/github/nagavarma9199/neural-networks/blob/main/ICP1.ipynb\" target=\"_parent\"><img src=\"https://colab.research.google.com/assets/colab-badge.svg\" alt=\"Open In Colab\"/></a>"
      ]
    },
    {
      "cell_type": "code",
      "execution_count": null,
      "metadata": {
        "colab": {
          "base_uri": "https://localhost:8080/"
        },
        "id": "kVH_1Cjx5fuA",
        "outputId": "4fd45736-aebf-42b0-fa72-f0a22f3fb4c8"
      },
      "outputs": [
        {
          "output_type": "stream",
          "name": "stdout",
          "text": [
            "python\n",
            "noht\n"
          ]
        }
      ],
      "source": [
        "text=list(input())\n",
        "b=\"\"\n",
        "for i in range (len(text)-1,1,-1):\n",
        "  b=b+\"\".join(str(text[i]))\n",
        "print(b)"
      ]
    },
    {
      "cell_type": "code",
      "source": [
        "a = int(input())\n",
        "b= int(input())\n",
        "\n",
        "print(a+b)\n",
        "print(a-b)\n",
        "print(a*b)\n",
        "print(a/b)"
      ],
      "metadata": {
        "colab": {
          "base_uri": "https://localhost:8080/"
        },
        "id": "P9O9ULui-C8k",
        "outputId": "f94ee36d-7024-4ab5-e1e1-290c8bffd4f1"
      },
      "execution_count": null,
      "outputs": [
        {
          "output_type": "stream",
          "name": "stdout",
          "text": [
            "1\n",
            "2\n",
            "3\n",
            "-1\n",
            "2\n",
            "0.5\n"
          ]
        }
      ]
    },
    {
      "cell_type": "code",
      "source": [
        "sentence = input()\n",
        "print(sentence.replace('python', 'pythons'))"
      ],
      "metadata": {
        "colab": {
          "base_uri": "https://localhost:8080/"
        },
        "id": "J4kbFjpq-X3-",
        "outputId": "3f374564-4b69-4254-a3d8-e38810871ea3"
      },
      "execution_count": null,
      "outputs": [
        {
          "output_type": "stream",
          "name": "stdout",
          "text": [
            "I love playing with python\n",
            "I love playing with pythons\n"
          ]
        }
      ]
    },
    {
      "cell_type": "code",
      "source": [
        "score = int(input())\n",
        "\n",
        "if(score> 90):\n",
        "  print(\"A\")\n",
        "elif((score>80) and (score<90)):\n",
        "  print(\"B\")\n",
        "elif((score>70) and (score<80)):\n",
        "  print(\"C\")\n",
        "elif((score>60) and (score<70)):\n",
        "  print(\"D\")\n",
        "else:\n",
        "  print(\"F\")\n",
        "\n"
      ],
      "metadata": {
        "colab": {
          "base_uri": "https://localhost:8080/"
        },
        "id": "Dy-v-O1O_tcs",
        "outputId": "6c5dda17-ae9b-499a-aecc-f9364ff9d560"
      },
      "execution_count": null,
      "outputs": [
        {
          "output_type": "stream",
          "name": "stdout",
          "text": [
            "66\n",
            "D\n"
          ]
        }
      ]
    }
  ]
}