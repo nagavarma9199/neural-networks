{
  "nbformat": 4,
  "nbformat_minor": 0,
  "metadata": {
    "colab": {
      "provenance": [],
      "authorship_tag": "ABX9TyNe8/xc7yXTV3sRrOblC0S4",
      "include_colab_link": true
    },
    "kernelspec": {
      "name": "python3",
      "display_name": "Python 3"
    },
    "language_info": {
      "name": "python"
    }
  },
  "cells": [
    {
      "cell_type": "markdown",
      "metadata": {
        "id": "view-in-github",
        "colab_type": "text"
      },
      "source": [
        "<a href=\"https://colab.research.google.com/github/nagavarma9199/neural-networks/blob/main/ICP3_ques1.ipynb\" target=\"_parent\"><img src=\"https://colab.research.google.com/assets/colab-badge.svg\" alt=\"Open In Colab\"/></a>"
      ]
    },
    {
      "cell_type": "code",
      "source": [
        "pip install tensorflow"
      ],
      "metadata": {
        "colab": {
          "base_uri": "https://localhost:8080/"
        },
        "id": "-y0Nl_YuANUt",
        "outputId": "c1e28691-2554-4fe0-df39-6c888ec030e1"
      },
      "execution_count": null,
      "outputs": [
        {
          "output_type": "stream",
          "name": "stdout",
          "text": [
            "Requirement already satisfied: tensorflow in /usr/local/lib/python3.10/dist-packages (2.15.0)\n",
            "Requirement already satisfied: absl-py>=1.0.0 in /usr/local/lib/python3.10/dist-packages (from tensorflow) (1.4.0)\n",
            "Requirement already satisfied: astunparse>=1.6.0 in /usr/local/lib/python3.10/dist-packages (from tensorflow) (1.6.3)\n",
            "Requirement already satisfied: flatbuffers>=23.5.26 in /usr/local/lib/python3.10/dist-packages (from tensorflow) (24.3.25)\n",
            "Requirement already satisfied: gast!=0.5.0,!=0.5.1,!=0.5.2,>=0.2.1 in /usr/local/lib/python3.10/dist-packages (from tensorflow) (0.6.0)\n",
            "Requirement already satisfied: google-pasta>=0.1.1 in /usr/local/lib/python3.10/dist-packages (from tensorflow) (0.2.0)\n",
            "Requirement already satisfied: h5py>=2.9.0 in /usr/local/lib/python3.10/dist-packages (from tensorflow) (3.9.0)\n",
            "Requirement already satisfied: libclang>=13.0.0 in /usr/local/lib/python3.10/dist-packages (from tensorflow) (18.1.1)\n",
            "Requirement already satisfied: ml-dtypes~=0.2.0 in /usr/local/lib/python3.10/dist-packages (from tensorflow) (0.2.0)\n",
            "Requirement already satisfied: numpy<2.0.0,>=1.23.5 in /usr/local/lib/python3.10/dist-packages (from tensorflow) (1.25.2)\n",
            "Requirement already satisfied: opt-einsum>=2.3.2 in /usr/local/lib/python3.10/dist-packages (from tensorflow) (3.3.0)\n",
            "Requirement already satisfied: packaging in /usr/local/lib/python3.10/dist-packages (from tensorflow) (24.1)\n",
            "Requirement already satisfied: protobuf!=4.21.0,!=4.21.1,!=4.21.2,!=4.21.3,!=4.21.4,!=4.21.5,<5.0.0dev,>=3.20.3 in /usr/local/lib/python3.10/dist-packages (from tensorflow) (3.20.3)\n",
            "Requirement already satisfied: setuptools in /usr/local/lib/python3.10/dist-packages (from tensorflow) (67.7.2)\n",
            "Requirement already satisfied: six>=1.12.0 in /usr/local/lib/python3.10/dist-packages (from tensorflow) (1.16.0)\n",
            "Requirement already satisfied: termcolor>=1.1.0 in /usr/local/lib/python3.10/dist-packages (from tensorflow) (2.4.0)\n",
            "Requirement already satisfied: typing-extensions>=3.6.6 in /usr/local/lib/python3.10/dist-packages (from tensorflow) (4.12.2)\n",
            "Requirement already satisfied: wrapt<1.15,>=1.11.0 in /usr/local/lib/python3.10/dist-packages (from tensorflow) (1.14.1)\n",
            "Requirement already satisfied: tensorflow-io-gcs-filesystem>=0.23.1 in /usr/local/lib/python3.10/dist-packages (from tensorflow) (0.37.0)\n",
            "Requirement already satisfied: grpcio<2.0,>=1.24.3 in /usr/local/lib/python3.10/dist-packages (from tensorflow) (1.64.1)\n",
            "Requirement already satisfied: tensorboard<2.16,>=2.15 in /usr/local/lib/python3.10/dist-packages (from tensorflow) (2.15.2)\n",
            "Requirement already satisfied: tensorflow-estimator<2.16,>=2.15.0 in /usr/local/lib/python3.10/dist-packages (from tensorflow) (2.15.0)\n",
            "Requirement already satisfied: keras<2.16,>=2.15.0 in /usr/local/lib/python3.10/dist-packages (from tensorflow) (2.15.0)\n",
            "Requirement already satisfied: wheel<1.0,>=0.23.0 in /usr/local/lib/python3.10/dist-packages (from astunparse>=1.6.0->tensorflow) (0.43.0)\n",
            "Requirement already satisfied: google-auth<3,>=1.6.3 in /usr/local/lib/python3.10/dist-packages (from tensorboard<2.16,>=2.15->tensorflow) (2.27.0)\n",
            "Requirement already satisfied: google-auth-oauthlib<2,>=0.5 in /usr/local/lib/python3.10/dist-packages (from tensorboard<2.16,>=2.15->tensorflow) (1.2.0)\n",
            "Requirement already satisfied: markdown>=2.6.8 in /usr/local/lib/python3.10/dist-packages (from tensorboard<2.16,>=2.15->tensorflow) (3.6)\n",
            "Requirement already satisfied: requests<3,>=2.21.0 in /usr/local/lib/python3.10/dist-packages (from tensorboard<2.16,>=2.15->tensorflow) (2.31.0)\n",
            "Requirement already satisfied: tensorboard-data-server<0.8.0,>=0.7.0 in /usr/local/lib/python3.10/dist-packages (from tensorboard<2.16,>=2.15->tensorflow) (0.7.2)\n",
            "Requirement already satisfied: werkzeug>=1.0.1 in /usr/local/lib/python3.10/dist-packages (from tensorboard<2.16,>=2.15->tensorflow) (3.0.3)\n",
            "Requirement already satisfied: cachetools<6.0,>=2.0.0 in /usr/local/lib/python3.10/dist-packages (from google-auth<3,>=1.6.3->tensorboard<2.16,>=2.15->tensorflow) (5.3.3)\n",
            "Requirement already satisfied: pyasn1-modules>=0.2.1 in /usr/local/lib/python3.10/dist-packages (from google-auth<3,>=1.6.3->tensorboard<2.16,>=2.15->tensorflow) (0.4.0)\n",
            "Requirement already satisfied: rsa<5,>=3.1.4 in /usr/local/lib/python3.10/dist-packages (from google-auth<3,>=1.6.3->tensorboard<2.16,>=2.15->tensorflow) (4.9)\n",
            "Requirement already satisfied: requests-oauthlib>=0.7.0 in /usr/local/lib/python3.10/dist-packages (from google-auth-oauthlib<2,>=0.5->tensorboard<2.16,>=2.15->tensorflow) (1.3.1)\n",
            "Requirement already satisfied: charset-normalizer<4,>=2 in /usr/local/lib/python3.10/dist-packages (from requests<3,>=2.21.0->tensorboard<2.16,>=2.15->tensorflow) (3.3.2)\n",
            "Requirement already satisfied: idna<4,>=2.5 in /usr/local/lib/python3.10/dist-packages (from requests<3,>=2.21.0->tensorboard<2.16,>=2.15->tensorflow) (3.7)\n",
            "Requirement already satisfied: urllib3<3,>=1.21.1 in /usr/local/lib/python3.10/dist-packages (from requests<3,>=2.21.0->tensorboard<2.16,>=2.15->tensorflow) (2.0.7)\n",
            "Requirement already satisfied: certifi>=2017.4.17 in /usr/local/lib/python3.10/dist-packages (from requests<3,>=2.21.0->tensorboard<2.16,>=2.15->tensorflow) (2024.6.2)\n",
            "Requirement already satisfied: MarkupSafe>=2.1.1 in /usr/local/lib/python3.10/dist-packages (from werkzeug>=1.0.1->tensorboard<2.16,>=2.15->tensorflow) (2.1.5)\n",
            "Requirement already satisfied: pyasn1<0.7.0,>=0.4.6 in /usr/local/lib/python3.10/dist-packages (from pyasn1-modules>=0.2.1->google-auth<3,>=1.6.3->tensorboard<2.16,>=2.15->tensorflow) (0.6.0)\n",
            "Requirement already satisfied: oauthlib>=3.0.0 in /usr/local/lib/python3.10/dist-packages (from requests-oauthlib>=0.7.0->google-auth-oauthlib<2,>=0.5->tensorboard<2.16,>=2.15->tensorflow) (3.2.2)\n"
          ]
        }
      ]
    },
    {
      "cell_type": "code",
      "source": [
        "import pandas as pd\n",
        "import numpy as np\n",
        "from tensorflow.keras.models import Sequential\n",
        "from tensorflow.keras.layers import Dense, Activation\n",
        "from sklearn.model_selection import train_test_split\n",
        "import matplotlib.pyplot as pl\n"
      ],
      "metadata": {
        "id": "_EdrEDjDAqR9"
      },
      "execution_count": null,
      "outputs": []
    },
    {
      "cell_type": "code",
      "source": [
        "dataset = pd.read_csv(\"diabetes.csv\", header=None).values"
      ],
      "metadata": {
        "id": "DKZK2cihA0or"
      },
      "execution_count": null,
      "outputs": []
    },
    {
      "cell_type": "code",
      "source": [
        "X_train, X_test, Y_train, Y_test = train_test_split(dataset[:, 0:8], dataset[:, 8], test_size=0.25, random_state=87)\n"
      ],
      "metadata": {
        "id": "26TKhWguA-Zr"
      },
      "execution_count": null,
      "outputs": []
    },
    {
      "cell_type": "code",
      "source": [
        "np.random.seed(155)\n",
        "\n",
        "# Create model with additional Dense layers\n",
        "my_first_nn = Sequential()\n",
        "my_first_nn.add(Dense(20, input_dim=8, activation='relu'))  # First hidden layer\n",
        "my_first_nn.add(Dense(1, activation='sigmoid'))  # Output layer\n",
        "\n",
        "# Compile model\n",
        "my_first_nn.compile(loss='binary_crossentropy', optimizer='adam', metrics=['acc'])"
      ],
      "metadata": {
        "id": "0bL4VbEOA_ua"
      },
      "execution_count": null,
      "outputs": []
    },
    {
      "cell_type": "markdown",
      "source": [
        "Before adding dense layers"
      ],
      "metadata": {
        "id": "aKO0qicyIhlD"
      }
    },
    {
      "cell_type": "code",
      "source": [
        "history = my_first_nn.fit(X_train, Y_train, epochs=100, validation_split=0.2, initial_epoch=0)\n",
        "\n",
        "# Print model summary\n",
        "print(my_first_nn.summary())"
      ],
      "metadata": {
        "colab": {
          "base_uri": "https://localhost:8080/"
        },
        "id": "4AKbaPI_BBPS",
        "outputId": "9ef5f9f1-8d4e-4ddb-90e9-2690b1b36a84"
      },
      "execution_count": null,
      "outputs": [
        {
          "output_type": "stream",
          "name": "stdout",
          "text": [
            "Epoch 1/100\n",
            "15/15 [==============================] - 1s 15ms/step - loss: 7.7544 - acc: 0.4283 - val_loss: 6.5983 - val_acc: 0.4052\n",
            "Epoch 2/100\n",
            "15/15 [==============================] - 0s 6ms/step - loss: 4.7858 - acc: 0.5478 - val_loss: 4.4243 - val_acc: 0.5086\n",
            "Epoch 3/100\n",
            "15/15 [==============================] - 0s 4ms/step - loss: 3.8603 - acc: 0.5391 - val_loss: 3.3586 - val_acc: 0.5345\n",
            "Epoch 4/100\n",
            "15/15 [==============================] - 0s 4ms/step - loss: 3.4678 - acc: 0.5326 - val_loss: 3.0248 - val_acc: 0.5431\n",
            "Epoch 5/100\n",
            "15/15 [==============================] - 0s 5ms/step - loss: 2.9749 - acc: 0.5696 - val_loss: 2.7180 - val_acc: 0.5172\n",
            "Epoch 6/100\n",
            "15/15 [==============================] - 0s 4ms/step - loss: 2.5947 - acc: 0.5761 - val_loss: 2.4911 - val_acc: 0.5345\n",
            "Epoch 7/100\n",
            "15/15 [==============================] - 0s 4ms/step - loss: 2.2779 - acc: 0.5826 - val_loss: 1.9241 - val_acc: 0.5431\n",
            "Epoch 8/100\n",
            "15/15 [==============================] - 0s 5ms/step - loss: 1.9544 - acc: 0.5957 - val_loss: 1.7155 - val_acc: 0.5517\n",
            "Epoch 9/100\n",
            "15/15 [==============================] - 0s 4ms/step - loss: 1.7596 - acc: 0.6109 - val_loss: 1.5527 - val_acc: 0.5690\n",
            "Epoch 10/100\n",
            "15/15 [==============================] - 0s 4ms/step - loss: 1.5752 - acc: 0.6217 - val_loss: 1.3477 - val_acc: 0.6207\n",
            "Epoch 11/100\n",
            "15/15 [==============================] - 0s 5ms/step - loss: 1.4825 - acc: 0.6174 - val_loss: 1.2636 - val_acc: 0.6121\n",
            "Epoch 12/100\n",
            "15/15 [==============================] - 0s 6ms/step - loss: 1.3544 - acc: 0.6326 - val_loss: 1.1431 - val_acc: 0.6293\n",
            "Epoch 13/100\n",
            "15/15 [==============================] - 0s 6ms/step - loss: 1.2542 - acc: 0.6457 - val_loss: 1.1329 - val_acc: 0.6552\n",
            "Epoch 14/100\n",
            "15/15 [==============================] - 0s 4ms/step - loss: 1.2968 - acc: 0.6239 - val_loss: 1.1044 - val_acc: 0.5862\n",
            "Epoch 15/100\n",
            "15/15 [==============================] - 0s 4ms/step - loss: 1.1383 - acc: 0.6283 - val_loss: 1.1635 - val_acc: 0.6121\n",
            "Epoch 16/100\n",
            "15/15 [==============================] - 0s 5ms/step - loss: 1.0651 - acc: 0.6587 - val_loss: 1.0095 - val_acc: 0.6379\n",
            "Epoch 17/100\n",
            "15/15 [==============================] - 0s 4ms/step - loss: 1.0514 - acc: 0.6413 - val_loss: 1.0054 - val_acc: 0.6207\n",
            "Epoch 18/100\n",
            "15/15 [==============================] - 0s 5ms/step - loss: 1.0235 - acc: 0.6739 - val_loss: 1.0036 - val_acc: 0.6293\n",
            "Epoch 19/100\n",
            "15/15 [==============================] - 0s 5ms/step - loss: 0.9637 - acc: 0.6522 - val_loss: 1.1371 - val_acc: 0.5948\n",
            "Epoch 20/100\n",
            "15/15 [==============================] - 0s 4ms/step - loss: 0.9526 - acc: 0.6565 - val_loss: 0.9635 - val_acc: 0.6207\n",
            "Epoch 21/100\n",
            "15/15 [==============================] - 0s 4ms/step - loss: 0.9316 - acc: 0.6543 - val_loss: 0.9318 - val_acc: 0.6121\n",
            "Epoch 22/100\n",
            "15/15 [==============================] - 0s 5ms/step - loss: 0.9056 - acc: 0.6848 - val_loss: 0.9306 - val_acc: 0.6466\n",
            "Epoch 23/100\n",
            "15/15 [==============================] - 0s 6ms/step - loss: 0.8834 - acc: 0.6652 - val_loss: 0.9305 - val_acc: 0.5862\n",
            "Epoch 24/100\n",
            "15/15 [==============================] - 0s 6ms/step - loss: 0.8501 - acc: 0.6478 - val_loss: 1.0100 - val_acc: 0.5862\n",
            "Epoch 25/100\n",
            "15/15 [==============================] - 0s 6ms/step - loss: 0.8418 - acc: 0.6435 - val_loss: 0.9029 - val_acc: 0.6034\n",
            "Epoch 26/100\n",
            "15/15 [==============================] - 0s 4ms/step - loss: 0.8195 - acc: 0.6630 - val_loss: 0.9159 - val_acc: 0.6638\n",
            "Epoch 27/100\n",
            "15/15 [==============================] - 0s 4ms/step - loss: 0.8353 - acc: 0.6609 - val_loss: 0.9074 - val_acc: 0.5862\n",
            "Epoch 28/100\n",
            "15/15 [==============================] - 0s 4ms/step - loss: 0.8704 - acc: 0.6435 - val_loss: 0.9726 - val_acc: 0.5948\n",
            "Epoch 29/100\n",
            "15/15 [==============================] - 0s 5ms/step - loss: 0.8524 - acc: 0.6848 - val_loss: 0.8981 - val_acc: 0.5862\n",
            "Epoch 30/100\n",
            "15/15 [==============================] - 0s 7ms/step - loss: 0.8057 - acc: 0.6500 - val_loss: 0.9355 - val_acc: 0.6034\n",
            "Epoch 31/100\n",
            "15/15 [==============================] - 0s 7ms/step - loss: 0.7860 - acc: 0.6630 - val_loss: 0.9029 - val_acc: 0.6034\n",
            "Epoch 32/100\n",
            "15/15 [==============================] - 0s 6ms/step - loss: 0.7653 - acc: 0.6761 - val_loss: 0.8423 - val_acc: 0.6034\n",
            "Epoch 33/100\n",
            "15/15 [==============================] - 0s 6ms/step - loss: 0.7762 - acc: 0.6804 - val_loss: 0.8742 - val_acc: 0.6121\n",
            "Epoch 34/100\n",
            "15/15 [==============================] - 0s 7ms/step - loss: 0.7540 - acc: 0.6696 - val_loss: 0.8293 - val_acc: 0.6293\n",
            "Epoch 35/100\n",
            "15/15 [==============================] - 0s 8ms/step - loss: 0.7529 - acc: 0.6652 - val_loss: 0.8283 - val_acc: 0.6207\n",
            "Epoch 36/100\n",
            "15/15 [==============================] - 0s 10ms/step - loss: 0.7245 - acc: 0.6804 - val_loss: 0.8395 - val_acc: 0.6121\n",
            "Epoch 37/100\n",
            "15/15 [==============================] - 0s 6ms/step - loss: 0.7175 - acc: 0.6739 - val_loss: 0.8175 - val_acc: 0.6034\n",
            "Epoch 38/100\n",
            "15/15 [==============================] - 0s 7ms/step - loss: 0.7530 - acc: 0.6630 - val_loss: 0.8364 - val_acc: 0.6207\n",
            "Epoch 39/100\n",
            "15/15 [==============================] - 0s 7ms/step - loss: 0.7021 - acc: 0.6913 - val_loss: 0.8095 - val_acc: 0.6034\n",
            "Epoch 40/100\n",
            "15/15 [==============================] - 0s 6ms/step - loss: 0.7038 - acc: 0.6935 - val_loss: 0.9117 - val_acc: 0.6034\n",
            "Epoch 41/100\n",
            "15/15 [==============================] - 0s 6ms/step - loss: 0.6936 - acc: 0.6696 - val_loss: 0.8572 - val_acc: 0.6034\n",
            "Epoch 42/100\n",
            "15/15 [==============================] - 0s 5ms/step - loss: 0.6906 - acc: 0.6891 - val_loss: 0.8161 - val_acc: 0.6121\n",
            "Epoch 43/100\n",
            "15/15 [==============================] - 0s 9ms/step - loss: 0.6891 - acc: 0.6783 - val_loss: 0.7937 - val_acc: 0.6379\n",
            "Epoch 44/100\n",
            "15/15 [==============================] - 0s 8ms/step - loss: 0.6770 - acc: 0.6978 - val_loss: 0.8118 - val_acc: 0.6121\n",
            "Epoch 45/100\n",
            "15/15 [==============================] - 0s 7ms/step - loss: 0.6906 - acc: 0.6848 - val_loss: 0.8388 - val_acc: 0.5948\n",
            "Epoch 46/100\n",
            "15/15 [==============================] - 0s 7ms/step - loss: 0.6657 - acc: 0.7174 - val_loss: 0.8817 - val_acc: 0.5948\n",
            "Epoch 47/100\n",
            "15/15 [==============================] - 0s 6ms/step - loss: 0.6899 - acc: 0.6717 - val_loss: 0.7666 - val_acc: 0.6552\n",
            "Epoch 48/100\n",
            "15/15 [==============================] - 0s 8ms/step - loss: 0.6713 - acc: 0.7109 - val_loss: 0.7673 - val_acc: 0.6379\n",
            "Epoch 49/100\n",
            "15/15 [==============================] - 0s 7ms/step - loss: 0.6599 - acc: 0.7043 - val_loss: 0.7539 - val_acc: 0.6466\n",
            "Epoch 50/100\n",
            "15/15 [==============================] - 0s 8ms/step - loss: 0.6719 - acc: 0.7000 - val_loss: 0.7575 - val_acc: 0.6466\n",
            "Epoch 51/100\n",
            "15/15 [==============================] - 0s 7ms/step - loss: 0.6520 - acc: 0.7043 - val_loss: 0.7564 - val_acc: 0.6466\n",
            "Epoch 52/100\n",
            "15/15 [==============================] - 0s 9ms/step - loss: 0.6632 - acc: 0.6957 - val_loss: 0.7521 - val_acc: 0.6552\n",
            "Epoch 53/100\n",
            "15/15 [==============================] - 0s 10ms/step - loss: 0.6402 - acc: 0.7152 - val_loss: 0.7503 - val_acc: 0.6293\n",
            "Epoch 54/100\n",
            "15/15 [==============================] - 0s 7ms/step - loss: 0.6307 - acc: 0.7109 - val_loss: 0.7493 - val_acc: 0.6293\n",
            "Epoch 55/100\n",
            "15/15 [==============================] - 0s 7ms/step - loss: 0.6613 - acc: 0.6957 - val_loss: 0.7697 - val_acc: 0.6466\n",
            "Epoch 56/100\n",
            "15/15 [==============================] - 0s 7ms/step - loss: 0.6667 - acc: 0.6891 - val_loss: 0.7431 - val_acc: 0.6207\n",
            "Epoch 57/100\n",
            "15/15 [==============================] - 0s 5ms/step - loss: 0.6414 - acc: 0.7022 - val_loss: 0.8796 - val_acc: 0.5948\n",
            "Epoch 58/100\n",
            "15/15 [==============================] - 0s 5ms/step - loss: 0.7110 - acc: 0.6978 - val_loss: 0.8542 - val_acc: 0.5948\n",
            "Epoch 59/100\n",
            "15/15 [==============================] - 0s 5ms/step - loss: 0.6523 - acc: 0.7130 - val_loss: 0.7412 - val_acc: 0.6552\n",
            "Epoch 60/100\n",
            "15/15 [==============================] - 0s 4ms/step - loss: 0.6618 - acc: 0.7087 - val_loss: 0.7508 - val_acc: 0.5948\n",
            "Epoch 61/100\n",
            "15/15 [==============================] - 0s 5ms/step - loss: 0.6443 - acc: 0.7130 - val_loss: 0.7660 - val_acc: 0.6552\n",
            "Epoch 62/100\n",
            "15/15 [==============================] - 0s 6ms/step - loss: 0.6463 - acc: 0.7152 - val_loss: 0.7208 - val_acc: 0.6379\n",
            "Epoch 63/100\n",
            "15/15 [==============================] - 0s 5ms/step - loss: 0.6246 - acc: 0.7196 - val_loss: 0.7173 - val_acc: 0.6466\n",
            "Epoch 64/100\n",
            "15/15 [==============================] - 0s 5ms/step - loss: 0.6479 - acc: 0.7109 - val_loss: 0.7335 - val_acc: 0.5948\n",
            "Epoch 65/100\n",
            "15/15 [==============================] - 0s 4ms/step - loss: 0.6114 - acc: 0.7152 - val_loss: 0.8194 - val_acc: 0.6034\n",
            "Epoch 66/100\n",
            "15/15 [==============================] - 0s 6ms/step - loss: 0.6318 - acc: 0.7326 - val_loss: 0.7336 - val_acc: 0.6724\n",
            "Epoch 67/100\n",
            "15/15 [==============================] - 0s 5ms/step - loss: 0.6056 - acc: 0.7152 - val_loss: 0.7235 - val_acc: 0.6293\n",
            "Epoch 68/100\n",
            "15/15 [==============================] - 0s 4ms/step - loss: 0.6085 - acc: 0.7304 - val_loss: 0.7807 - val_acc: 0.6034\n",
            "Epoch 69/100\n",
            "15/15 [==============================] - 0s 5ms/step - loss: 0.6262 - acc: 0.7043 - val_loss: 0.8112 - val_acc: 0.6207\n",
            "Epoch 70/100\n",
            "15/15 [==============================] - 0s 5ms/step - loss: 0.6424 - acc: 0.7043 - val_loss: 0.7629 - val_acc: 0.6724\n",
            "Epoch 71/100\n",
            "15/15 [==============================] - 0s 4ms/step - loss: 0.6238 - acc: 0.7000 - val_loss: 0.7086 - val_acc: 0.6207\n",
            "Epoch 72/100\n",
            "15/15 [==============================] - 0s 5ms/step - loss: 0.6165 - acc: 0.7130 - val_loss: 0.6963 - val_acc: 0.6379\n",
            "Epoch 73/100\n",
            "15/15 [==============================] - 0s 4ms/step - loss: 0.5959 - acc: 0.7348 - val_loss: 0.6999 - val_acc: 0.6466\n",
            "Epoch 74/100\n",
            "15/15 [==============================] - 0s 6ms/step - loss: 0.6094 - acc: 0.7326 - val_loss: 0.7030 - val_acc: 0.6724\n",
            "Epoch 75/100\n",
            "15/15 [==============================] - 0s 6ms/step - loss: 0.5959 - acc: 0.7304 - val_loss: 0.7220 - val_acc: 0.5948\n",
            "Epoch 76/100\n",
            "15/15 [==============================] - 0s 6ms/step - loss: 0.6064 - acc: 0.7152 - val_loss: 0.6891 - val_acc: 0.6552\n",
            "Epoch 77/100\n",
            "15/15 [==============================] - 0s 6ms/step - loss: 0.5945 - acc: 0.7326 - val_loss: 0.6909 - val_acc: 0.6724\n",
            "Epoch 78/100\n",
            "15/15 [==============================] - 0s 6ms/step - loss: 0.6375 - acc: 0.7109 - val_loss: 0.6949 - val_acc: 0.6207\n",
            "Epoch 79/100\n",
            "15/15 [==============================] - 0s 5ms/step - loss: 0.6050 - acc: 0.7370 - val_loss: 0.6979 - val_acc: 0.6810\n",
            "Epoch 80/100\n",
            "15/15 [==============================] - 0s 5ms/step - loss: 0.6048 - acc: 0.7239 - val_loss: 0.6982 - val_acc: 0.5862\n",
            "Epoch 81/100\n",
            "15/15 [==============================] - 0s 4ms/step - loss: 0.5992 - acc: 0.7261 - val_loss: 0.7669 - val_acc: 0.6293\n",
            "Epoch 82/100\n",
            "15/15 [==============================] - 0s 5ms/step - loss: 0.6061 - acc: 0.7304 - val_loss: 0.7121 - val_acc: 0.6810\n",
            "Epoch 83/100\n",
            "15/15 [==============================] - 0s 5ms/step - loss: 0.6060 - acc: 0.7348 - val_loss: 0.6845 - val_acc: 0.6638\n",
            "Epoch 84/100\n",
            "15/15 [==============================] - 0s 4ms/step - loss: 0.6109 - acc: 0.7326 - val_loss: 0.7234 - val_acc: 0.6121\n",
            "Epoch 85/100\n",
            "15/15 [==============================] - 0s 5ms/step - loss: 0.5912 - acc: 0.7261 - val_loss: 0.6920 - val_acc: 0.6034\n",
            "Epoch 86/100\n",
            "15/15 [==============================] - 0s 6ms/step - loss: 0.6209 - acc: 0.7130 - val_loss: 0.7729 - val_acc: 0.6724\n",
            "Epoch 87/100\n",
            "15/15 [==============================] - 0s 6ms/step - loss: 0.6388 - acc: 0.6935 - val_loss: 0.7072 - val_acc: 0.6983\n",
            "Epoch 88/100\n",
            "15/15 [==============================] - 0s 5ms/step - loss: 0.5888 - acc: 0.7326 - val_loss: 0.7722 - val_acc: 0.6207\n",
            "Epoch 89/100\n",
            "15/15 [==============================] - 0s 4ms/step - loss: 0.6137 - acc: 0.7304 - val_loss: 0.7047 - val_acc: 0.6466\n",
            "Epoch 90/100\n",
            "15/15 [==============================] - 0s 6ms/step - loss: 0.6134 - acc: 0.6935 - val_loss: 0.6970 - val_acc: 0.6293\n",
            "Epoch 91/100\n",
            "15/15 [==============================] - 0s 5ms/step - loss: 0.5969 - acc: 0.7261 - val_loss: 0.7501 - val_acc: 0.6724\n",
            "Epoch 92/100\n",
            "15/15 [==============================] - 0s 5ms/step - loss: 0.5965 - acc: 0.7196 - val_loss: 0.6755 - val_acc: 0.6638\n",
            "Epoch 93/100\n",
            "15/15 [==============================] - 0s 4ms/step - loss: 0.5757 - acc: 0.7435 - val_loss: 0.6834 - val_acc: 0.6724\n",
            "Epoch 94/100\n",
            "15/15 [==============================] - 0s 4ms/step - loss: 0.6229 - acc: 0.7196 - val_loss: 0.7412 - val_acc: 0.6552\n",
            "Epoch 95/100\n",
            "15/15 [==============================] - 0s 4ms/step - loss: 0.6113 - acc: 0.7370 - val_loss: 0.7012 - val_acc: 0.6724\n",
            "Epoch 96/100\n",
            "15/15 [==============================] - 0s 5ms/step - loss: 0.5930 - acc: 0.7217 - val_loss: 0.7333 - val_acc: 0.6897\n",
            "Epoch 97/100\n",
            "15/15 [==============================] - 0s 5ms/step - loss: 0.5878 - acc: 0.7304 - val_loss: 0.6797 - val_acc: 0.6724\n",
            "Epoch 98/100\n",
            "15/15 [==============================] - 0s 6ms/step - loss: 0.6053 - acc: 0.7065 - val_loss: 0.7282 - val_acc: 0.6379\n",
            "Epoch 99/100\n",
            "15/15 [==============================] - 0s 6ms/step - loss: 0.6124 - acc: 0.7130 - val_loss: 0.7246 - val_acc: 0.6293\n",
            "Epoch 100/100\n",
            "15/15 [==============================] - 0s 5ms/step - loss: 0.5832 - acc: 0.7283 - val_loss: 0.6746 - val_acc: 0.6121\n",
            "Model: \"sequential_3\"\n",
            "_________________________________________________________________\n",
            " Layer (type)                Output Shape              Param #   \n",
            "=================================================================\n",
            " dense_12 (Dense)            (None, 20)                180       \n",
            "                                                                 \n",
            " dense_13 (Dense)            (None, 1)                 21        \n",
            "                                                                 \n",
            "=================================================================\n",
            "Total params: 201 (804.00 Byte)\n",
            "Trainable params: 201 (804.00 Byte)\n",
            "Non-trainable params: 0 (0.00 Byte)\n",
            "_________________________________________________________________\n",
            "None\n"
          ]
        }
      ]
    },
    {
      "cell_type": "code",
      "source": [
        "loss, accuracy = my_first_nn.evaluate(X_test, Y_test)\n",
        "print(f\"Model loss: {loss:.4f}\")\n",
        "print(f\"Model accuracy: {accuracy:.4f}\")"
      ],
      "metadata": {
        "colab": {
          "base_uri": "https://localhost:8080/"
        },
        "id": "FEN8LR6KBGbc",
        "outputId": "934e85c0-0a6d-438e-b5ec-8c14ecfb8a9f"
      },
      "execution_count": null,
      "outputs": [
        {
          "output_type": "stream",
          "name": "stdout",
          "text": [
            "6/6 [==============================] - 0s 3ms/step - loss: 0.6874 - acc: 0.7188\n",
            "Model loss: 0.6874\n",
            "Model accuracy: 0.7188\n"
          ]
        }
      ]
    },
    {
      "cell_type": "code",
      "source": [
        "plt.plot(history.history['acc'])\n",
        "plt.plot(history.history['val_acc'])\n",
        "plt.title('Model Accuracy')\n",
        "plt.ylabel('Accuracy')\n",
        "plt.xlabel('Epoch')\n",
        "plt.legend(['Train', 'Validation'], loc='upper left')\n",
        "plt.show()"
      ],
      "metadata": {
        "colab": {
          "base_uri": "https://localhost:8080/",
          "height": 472
        },
        "id": "GQy4pBrGBKdh",
        "outputId": "632ac463-19be-45cd-a839-4aabc17102f4"
      },
      "execution_count": null,
      "outputs": [
        {
          "output_type": "display_data",
          "data": {
            "text/plain": [
              "<Figure size 640x480 with 1 Axes>"
            ],
            "image/png": "[encoded data removed]"
          },
          "metadata": {}
        }
      ]
    },
    {
      "cell_type": "markdown",
      "source": [
        "Add more Dense layers to the existing code and check how the accuracy changes"
      ],
      "metadata": {
        "id": "1tzmDDXsIdpt"
      }
    },
    {
      "cell_type": "code",
      "source": [
        "my_first_nn = Sequential()\n",
        "my_first_nn.add(Dense(20, input_dim=8, activation='relu'))  # First hidden layer\n",
        "my_first_nn.add(Dense(15, activation='relu'))  # Second hidden layer\n",
        "my_first_nn.add(Dense(10, activation='relu'))  # Third hidden layer\n",
        "my_first_nn.add(Dense(5, activation='relu'))   # Fourth hidden layer\n",
        "my_first_nn.add(Dense(1, activation='sigmoid'))  # Output layer\n",
        "\n",
        "# Compile model\n",
        "my_first_nn.compile(loss='binary_crossentropy', optimizer='adam', metrics=['acc'])"
      ],
      "metadata": {
        "id": "IHd4wkdtC82q"
      },
      "execution_count": null,
      "outputs": []
    },
    {
      "cell_type": "code",
      "source": [
        "my_first_nn.compile(loss='binary_crossentropy', optimizer='adam', metrics=['acc'])\n",
        "\n",
        "# Train model with validation\n",
        "history = my_first_nn.fit(X_train, Y_train, epochs=100, validation_split=0.2, initial_epoch=0)\n",
        "\n",
        "# Print model summary\n",
        "print(my_first_nn.summary())"
      ],
      "metadata": {
        "colab": {
          "base_uri": "https://localhost:8080/"
        },
        "id": "ttN4uadOEn09",
        "outputId": "85f99aff-2164-4467-e61a-4c6bf9b11768"
      },
      "execution_count": null,
      "outputs": [
        {
          "output_type": "stream",
          "name": "stdout",
          "text": [
            "Epoch 1/100\n",
            "15/15 [==============================] - 2s 17ms/step - loss: 9.1573 - acc: 0.6652 - val_loss: 5.0143 - val_acc: 0.6466\n",
            "Epoch 2/100\n",
            "15/15 [==============================] - 0s 6ms/step - loss: 3.0244 - acc: 0.6652 - val_loss: 1.2911 - val_acc: 0.6466\n",
            "Epoch 3/100\n",
            "15/15 [==============================] - 0s 5ms/step - loss: 1.1683 - acc: 0.6652 - val_loss: 0.9990 - val_acc: 0.6466\n",
            "Epoch 4/100\n",
            "15/15 [==============================] - 0s 6ms/step - loss: 0.9717 - acc: 0.6652 - val_loss: 0.8795 - val_acc: 0.6466\n",
            "Epoch 5/100\n",
            "15/15 [==============================] - 0s 5ms/step - loss: 0.8620 - acc: 0.6652 - val_loss: 0.7927 - val_acc: 0.6466\n",
            "Epoch 6/100\n",
            "15/15 [==============================] - 0s 6ms/step - loss: 0.7874 - acc: 0.6630 - val_loss: 0.7498 - val_acc: 0.6466\n",
            "Epoch 7/100\n",
            "15/15 [==============================] - 0s 6ms/step - loss: 0.7473 - acc: 0.6630 - val_loss: 0.7204 - val_acc: 0.6466\n",
            "Epoch 8/100\n",
            "15/15 [==============================] - 0s 4ms/step - loss: 0.7208 - acc: 0.6630 - val_loss: 0.7030 - val_acc: 0.6466\n",
            "Epoch 9/100\n",
            "15/15 [==============================] - 0s 5ms/step - loss: 0.7059 - acc: 0.6630 - val_loss: 0.6887 - val_acc: 0.6379\n",
            "Epoch 10/100\n",
            "15/15 [==============================] - 0s 5ms/step - loss: 0.6936 - acc: 0.6630 - val_loss: 0.6768 - val_acc: 0.6207\n",
            "Epoch 11/100\n",
            "15/15 [==============================] - 0s 5ms/step - loss: 0.6826 - acc: 0.6674 - val_loss: 0.6676 - val_acc: 0.6121\n",
            "Epoch 12/100\n",
            "15/15 [==============================] - 0s 5ms/step - loss: 0.6764 - acc: 0.6609 - val_loss: 0.6611 - val_acc: 0.6293\n",
            "Epoch 13/100\n",
            "15/15 [==============================] - 0s 5ms/step - loss: 0.6715 - acc: 0.6630 - val_loss: 0.6585 - val_acc: 0.6293\n",
            "Epoch 14/100\n",
            "15/15 [==============================] - 0s 5ms/step - loss: 0.6659 - acc: 0.6587 - val_loss: 0.6552 - val_acc: 0.6293\n",
            "Epoch 15/100\n",
            "15/15 [==============================] - 0s 5ms/step - loss: 0.6589 - acc: 0.6609 - val_loss: 0.6500 - val_acc: 0.6379\n",
            "Epoch 16/100\n",
            "15/15 [==============================] - 0s 6ms/step - loss: 0.6541 - acc: 0.6587 - val_loss: 0.6419 - val_acc: 0.6379\n",
            "Epoch 17/100\n",
            "15/15 [==============================] - 0s 4ms/step - loss: 0.6583 - acc: 0.6565 - val_loss: 0.6381 - val_acc: 0.6379\n",
            "Epoch 18/100\n",
            "15/15 [==============================] - 0s 5ms/step - loss: 0.6509 - acc: 0.6609 - val_loss: 0.6437 - val_acc: 0.6293\n",
            "Epoch 19/100\n",
            "15/15 [==============================] - 0s 7ms/step - loss: 0.6486 - acc: 0.6630 - val_loss: 0.6396 - val_acc: 0.6379\n",
            "Epoch 20/100\n",
            "15/15 [==============================] - 0s 7ms/step - loss: 0.6466 - acc: 0.6630 - val_loss: 0.6352 - val_acc: 0.6379\n",
            "Epoch 21/100\n",
            "15/15 [==============================] - 0s 5ms/step - loss: 0.6437 - acc: 0.6587 - val_loss: 0.6292 - val_acc: 0.6379\n",
            "Epoch 22/100\n",
            "15/15 [==============================] - 0s 6ms/step - loss: 0.6406 - acc: 0.6587 - val_loss: 0.6289 - val_acc: 0.6293\n",
            "Epoch 23/100\n",
            "15/15 [==============================] - 0s 5ms/step - loss: 0.6379 - acc: 0.6609 - val_loss: 0.6257 - val_acc: 0.6293\n",
            "Epoch 24/100\n",
            "15/15 [==============================] - 0s 5ms/step - loss: 0.6345 - acc: 0.6609 - val_loss: 0.6235 - val_acc: 0.6379\n",
            "Epoch 25/100\n",
            "15/15 [==============================] - 0s 6ms/step - loss: 0.6331 - acc: 0.6696 - val_loss: 0.6213 - val_acc: 0.6466\n",
            "Epoch 26/100\n",
            "15/15 [==============================] - 0s 6ms/step - loss: 0.6306 - acc: 0.6652 - val_loss: 0.6189 - val_acc: 0.6466\n",
            "Epoch 27/100\n",
            "15/15 [==============================] - 0s 6ms/step - loss: 0.6275 - acc: 0.6652 - val_loss: 0.6184 - val_acc: 0.6466\n",
            "Epoch 28/100\n",
            "15/15 [==============================] - 0s 4ms/step - loss: 0.6254 - acc: 0.6652 - val_loss: 0.6164 - val_acc: 0.6466\n",
            "Epoch 29/100\n",
            "15/15 [==============================] - 0s 6ms/step - loss: 0.6243 - acc: 0.6652 - val_loss: 0.6135 - val_acc: 0.6466\n",
            "Epoch 30/100\n",
            "15/15 [==============================] - 0s 6ms/step - loss: 0.6211 - acc: 0.6652 - val_loss: 0.6156 - val_acc: 0.6466\n",
            "Epoch 31/100\n",
            "15/15 [==============================] - 0s 7ms/step - loss: 0.6189 - acc: 0.6674 - val_loss: 0.6136 - val_acc: 0.6466\n",
            "Epoch 32/100\n",
            "15/15 [==============================] - 0s 6ms/step - loss: 0.6194 - acc: 0.6652 - val_loss: 0.6124 - val_acc: 0.6466\n",
            "Epoch 33/100\n",
            "15/15 [==============================] - 0s 5ms/step - loss: 0.6176 - acc: 0.6674 - val_loss: 0.6134 - val_acc: 0.6466\n",
            "Epoch 34/100\n",
            "15/15 [==============================] - 0s 4ms/step - loss: 0.6150 - acc: 0.6674 - val_loss: 0.6076 - val_acc: 0.6466\n",
            "Epoch 35/100\n",
            "15/15 [==============================] - 0s 4ms/step - loss: 0.6134 - acc: 0.6674 - val_loss: 0.6083 - val_acc: 0.6466\n",
            "Epoch 36/100\n",
            "15/15 [==============================] - 0s 5ms/step - loss: 0.6101 - acc: 0.6674 - val_loss: 0.6107 - val_acc: 0.6466\n",
            "Epoch 37/100\n",
            "15/15 [==============================] - 0s 6ms/step - loss: 0.6096 - acc: 0.6630 - val_loss: 0.6088 - val_acc: 0.6379\n",
            "Epoch 38/100\n",
            "15/15 [==============================] - 0s 5ms/step - loss: 0.6083 - acc: 0.6717 - val_loss: 0.6078 - val_acc: 0.6466\n",
            "Epoch 39/100\n",
            "15/15 [==============================] - 0s 5ms/step - loss: 0.6082 - acc: 0.6674 - val_loss: 0.6085 - val_acc: 0.6466\n",
            "Epoch 40/100\n",
            "15/15 [==============================] - 0s 5ms/step - loss: 0.6020 - acc: 0.6674 - val_loss: 0.6084 - val_acc: 0.6466\n",
            "Epoch 41/100\n",
            "15/15 [==============================] - 0s 5ms/step - loss: 0.6018 - acc: 0.6739 - val_loss: 0.6075 - val_acc: 0.6552\n",
            "Epoch 42/100\n",
            "15/15 [==============================] - 0s 7ms/step - loss: 0.5996 - acc: 0.6717 - val_loss: 0.6066 - val_acc: 0.6466\n",
            "Epoch 43/100\n",
            "15/15 [==============================] - 0s 7ms/step - loss: 0.5976 - acc: 0.6739 - val_loss: 0.6090 - val_acc: 0.6379\n",
            "Epoch 44/100\n",
            "15/15 [==============================] - 0s 6ms/step - loss: 0.5967 - acc: 0.6761 - val_loss: 0.6096 - val_acc: 0.6466\n",
            "Epoch 45/100\n",
            "15/15 [==============================] - 0s 5ms/step - loss: 0.5941 - acc: 0.6761 - val_loss: 0.6104 - val_acc: 0.6466\n",
            "Epoch 46/100\n",
            "15/15 [==============================] - 0s 5ms/step - loss: 0.5927 - acc: 0.6652 - val_loss: 0.6088 - val_acc: 0.6379\n",
            "Epoch 47/100\n",
            "15/15 [==============================] - 0s 5ms/step - loss: 0.5901 - acc: 0.6783 - val_loss: 0.6116 - val_acc: 0.6293\n",
            "Epoch 48/100\n",
            "15/15 [==============================] - 0s 4ms/step - loss: 0.5882 - acc: 0.6761 - val_loss: 0.6106 - val_acc: 0.6293\n",
            "Epoch 49/100\n",
            "15/15 [==============================] - 0s 4ms/step - loss: 0.5848 - acc: 0.6804 - val_loss: 0.6067 - val_acc: 0.6379\n",
            "Epoch 50/100\n",
            "15/15 [==============================] - 0s 4ms/step - loss: 0.5848 - acc: 0.6761 - val_loss: 0.6075 - val_acc: 0.6293\n",
            "Epoch 51/100\n",
            "15/15 [==============================] - 0s 5ms/step - loss: 0.5815 - acc: 0.6761 - val_loss: 0.6041 - val_acc: 0.6293\n",
            "Epoch 52/100\n",
            "15/15 [==============================] - 0s 5ms/step - loss: 0.5810 - acc: 0.6804 - val_loss: 0.6004 - val_acc: 0.6293\n",
            "Epoch 53/100\n",
            "15/15 [==============================] - 0s 6ms/step - loss: 0.5797 - acc: 0.6826 - val_loss: 0.6027 - val_acc: 0.6466\n",
            "Epoch 54/100\n",
            "15/15 [==============================] - 0s 6ms/step - loss: 0.5782 - acc: 0.6761 - val_loss: 0.6043 - val_acc: 0.6379\n",
            "Epoch 55/100\n",
            "15/15 [==============================] - 0s 10ms/step - loss: 0.5828 - acc: 0.6761 - val_loss: 0.5991 - val_acc: 0.6466\n",
            "Epoch 56/100\n",
            "15/15 [==============================] - 0s 8ms/step - loss: 0.5831 - acc: 0.6783 - val_loss: 0.6077 - val_acc: 0.6379\n",
            "Epoch 57/100\n",
            "15/15 [==============================] - 0s 8ms/step - loss: 0.5801 - acc: 0.6761 - val_loss: 0.6009 - val_acc: 0.6466\n",
            "Epoch 58/100\n",
            "15/15 [==============================] - 0s 8ms/step - loss: 0.5765 - acc: 0.6826 - val_loss: 0.6018 - val_acc: 0.6466\n",
            "Epoch 59/100\n",
            "15/15 [==============================] - 0s 7ms/step - loss: 0.5731 - acc: 0.6783 - val_loss: 0.5950 - val_acc: 0.6379\n",
            "Epoch 60/100\n",
            "15/15 [==============================] - 0s 7ms/step - loss: 0.5739 - acc: 0.6870 - val_loss: 0.5827 - val_acc: 0.6466\n",
            "Epoch 61/100\n",
            "15/15 [==============================] - 0s 7ms/step - loss: 0.5782 - acc: 0.6783 - val_loss: 0.6000 - val_acc: 0.6379\n",
            "Epoch 62/100\n",
            "15/15 [==============================] - 0s 10ms/step - loss: 0.5682 - acc: 0.6957 - val_loss: 0.5842 - val_acc: 0.6638\n",
            "Epoch 63/100\n",
            "15/15 [==============================] - 0s 9ms/step - loss: 0.5641 - acc: 0.6870 - val_loss: 0.5887 - val_acc: 0.6638\n",
            "Epoch 64/100\n",
            "15/15 [==============================] - 0s 8ms/step - loss: 0.5650 - acc: 0.7022 - val_loss: 0.6096 - val_acc: 0.6466\n",
            "Epoch 65/100\n",
            "15/15 [==============================] - 0s 7ms/step - loss: 0.5746 - acc: 0.6804 - val_loss: 0.5770 - val_acc: 0.6552\n",
            "Epoch 66/100\n",
            "15/15 [==============================] - 0s 6ms/step - loss: 0.5616 - acc: 0.7196 - val_loss: 0.5998 - val_acc: 0.6293\n",
            "Epoch 67/100\n",
            "15/15 [==============================] - 0s 8ms/step - loss: 0.5598 - acc: 0.7043 - val_loss: 0.5900 - val_acc: 0.6466\n",
            "Epoch 68/100\n",
            "15/15 [==============================] - 0s 9ms/step - loss: 0.5557 - acc: 0.6978 - val_loss: 0.5966 - val_acc: 0.6379\n",
            "Epoch 69/100\n",
            "15/15 [==============================] - 0s 8ms/step - loss: 0.5513 - acc: 0.7152 - val_loss: 0.5866 - val_acc: 0.6379\n",
            "Epoch 70/100\n",
            "15/15 [==============================] - 0s 8ms/step - loss: 0.5575 - acc: 0.7043 - val_loss: 0.5846 - val_acc: 0.6379\n",
            "Epoch 71/100\n",
            "15/15 [==============================] - 0s 9ms/step - loss: 0.5569 - acc: 0.7043 - val_loss: 0.5904 - val_acc: 0.6466\n",
            "Epoch 72/100\n",
            "15/15 [==============================] - 0s 8ms/step - loss: 0.5514 - acc: 0.7217 - val_loss: 0.5878 - val_acc: 0.6379\n",
            "Epoch 73/100\n",
            "15/15 [==============================] - 0s 9ms/step - loss: 0.5539 - acc: 0.7152 - val_loss: 0.5988 - val_acc: 0.6379\n",
            "Epoch 74/100\n",
            "15/15 [==============================] - 0s 7ms/step - loss: 0.5552 - acc: 0.7130 - val_loss: 0.6049 - val_acc: 0.6466\n",
            "Epoch 75/100\n",
            "15/15 [==============================] - 0s 8ms/step - loss: 0.5477 - acc: 0.7109 - val_loss: 0.5897 - val_acc: 0.6466\n",
            "Epoch 76/100\n",
            "15/15 [==============================] - 0s 8ms/step - loss: 0.5447 - acc: 0.7130 - val_loss: 0.5824 - val_acc: 0.6552\n",
            "Epoch 77/100\n",
            "15/15 [==============================] - 0s 8ms/step - loss: 0.5475 - acc: 0.7152 - val_loss: 0.5879 - val_acc: 0.6379\n",
            "Epoch 78/100\n",
            "15/15 [==============================] - 0s 9ms/step - loss: 0.5450 - acc: 0.7217 - val_loss: 0.5874 - val_acc: 0.6638\n",
            "Epoch 79/100\n",
            "15/15 [==============================] - 0s 8ms/step - loss: 0.5490 - acc: 0.7109 - val_loss: 0.6118 - val_acc: 0.6466\n",
            "Epoch 80/100\n",
            "15/15 [==============================] - 0s 6ms/step - loss: 0.5565 - acc: 0.7043 - val_loss: 0.6027 - val_acc: 0.6466\n",
            "Epoch 81/100\n",
            "15/15 [==============================] - 0s 4ms/step - loss: 0.5487 - acc: 0.7304 - val_loss: 0.5805 - val_acc: 0.6638\n",
            "Epoch 82/100\n",
            "15/15 [==============================] - 0s 4ms/step - loss: 0.5408 - acc: 0.7283 - val_loss: 0.5805 - val_acc: 0.6810\n",
            "Epoch 83/100\n",
            "15/15 [==============================] - 0s 5ms/step - loss: 0.5354 - acc: 0.7283 - val_loss: 0.5918 - val_acc: 0.6552\n",
            "Epoch 84/100\n",
            "15/15 [==============================] - 0s 4ms/step - loss: 0.5375 - acc: 0.7174 - val_loss: 0.5809 - val_acc: 0.6724\n",
            "Epoch 85/100\n",
            "15/15 [==============================] - 0s 6ms/step - loss: 0.5410 - acc: 0.7130 - val_loss: 0.5975 - val_acc: 0.6552\n",
            "Epoch 86/100\n",
            "15/15 [==============================] - 0s 5ms/step - loss: 0.5296 - acc: 0.7261 - val_loss: 0.5760 - val_acc: 0.6810\n",
            "Epoch 87/100\n",
            "15/15 [==============================] - 0s 5ms/step - loss: 0.5392 - acc: 0.7304 - val_loss: 0.5805 - val_acc: 0.6810\n",
            "Epoch 88/100\n",
            "15/15 [==============================] - 0s 7ms/step - loss: 0.5308 - acc: 0.7304 - val_loss: 0.6078 - val_acc: 0.6638\n",
            "Epoch 89/100\n",
            "15/15 [==============================] - 0s 7ms/step - loss: 0.5397 - acc: 0.7196 - val_loss: 0.5751 - val_acc: 0.6897\n",
            "Epoch 90/100\n",
            "15/15 [==============================] - 0s 5ms/step - loss: 0.5279 - acc: 0.7239 - val_loss: 0.6037 - val_acc: 0.6638\n",
            "Epoch 91/100\n",
            "15/15 [==============================] - 0s 5ms/step - loss: 0.5289 - acc: 0.7304 - val_loss: 0.5830 - val_acc: 0.6724\n",
            "Epoch 92/100\n",
            "15/15 [==============================] - 0s 6ms/step - loss: 0.5302 - acc: 0.7261 - val_loss: 0.6321 - val_acc: 0.6638\n",
            "Epoch 93/100\n",
            "15/15 [==============================] - 0s 5ms/step - loss: 0.5603 - acc: 0.7043 - val_loss: 0.5768 - val_acc: 0.6810\n",
            "Epoch 94/100\n",
            "15/15 [==============================] - 0s 4ms/step - loss: 0.5344 - acc: 0.7217 - val_loss: 0.5817 - val_acc: 0.6466\n",
            "Epoch 95/100\n",
            "15/15 [==============================] - 0s 4ms/step - loss: 0.5304 - acc: 0.7283 - val_loss: 0.6033 - val_acc: 0.6552\n",
            "Epoch 96/100\n",
            "15/15 [==============================] - 0s 5ms/step - loss: 0.5248 - acc: 0.7348 - val_loss: 0.5797 - val_acc: 0.6724\n",
            "Epoch 97/100\n",
            "15/15 [==============================] - 0s 5ms/step - loss: 0.5266 - acc: 0.7391 - val_loss: 0.5954 - val_acc: 0.6724\n",
            "Epoch 98/100\n",
            "15/15 [==============================] - 0s 5ms/step - loss: 0.5240 - acc: 0.7304 - val_loss: 0.5968 - val_acc: 0.6552\n",
            "Epoch 99/100\n",
            "15/15 [==============================] - 0s 4ms/step - loss: 0.5208 - acc: 0.7348 - val_loss: 0.5966 - val_acc: 0.6638\n",
            "Epoch 100/100\n",
            "15/15 [==============================] - 0s 6ms/step - loss: 0.5229 - acc: 0.7217 - val_loss: 0.5875 - val_acc: 0.6552\n",
            "Model: \"sequential_4\"\n",
            "_________________________________________________________________\n",
            " Layer (type)                Output Shape              Param #   \n",
            "=================================================================\n",
            " dense_14 (Dense)            (None, 20)                180       \n",
            "                                                                 \n",
            " dense_15 (Dense)            (None, 15)                315       \n",
            "                                                                 \n",
            " dense_16 (Dense)            (None, 10)                160       \n",
            "                                                                 \n",
            " dense_17 (Dense)            (None, 5)                 55        \n",
            "                                                                 \n",
            " dense_18 (Dense)            (None, 1)                 6         \n",
            "                                                                 \n",
            "=================================================================\n",
            "Total params: 716 (2.80 KB)\n",
            "Trainable params: 716 (2.80 KB)\n",
            "Non-trainable params: 0 (0.00 Byte)\n",
            "_________________________________________________________________\n",
            "None\n"
          ]
        }
      ]
    },
    {
      "cell_type": "code",
      "source": [
        "loss, accuracy = my_first_nn.evaluate(X_test, Y_test)\n",
        "print(f\"Model loss: {loss:.4f}\")\n",
        "print(f\"Model accuracy: {accuracy:.4f}\")"
      ],
      "metadata": {
        "colab": {
          "base_uri": "https://localhost:8080/"
        },
        "id": "GT_O4ySOErAT",
        "outputId": "8c4385c0-93f0-417a-dcf2-39aa68139b44"
      },
      "execution_count": null,
      "outputs": [
        {
          "output_type": "stream",
          "name": "stdout",
          "text": [
            "6/6 [==============================] - 0s 4ms/step - loss: 0.6474 - acc: 0.6354\n",
            "Model loss: 0.6474\n",
            "Model accuracy: 0.6354\n"
          ]
        }
      ]
    },
    {
      "cell_type": "code",
      "source": [
        "plt.plot(history.history['acc'])\n",
        "plt.plot(history.history['val_acc'])\n",
        "plt.title('Model Accuracy')\n",
        "plt.ylabel('Accuracy')\n",
        "plt.xlabel('Epoch')\n",
        "plt.legend(['Train', 'Validation'], loc='upper left')\n",
        "plt.show()\n"
      ],
      "metadata": {
        "colab": {
          "base_uri": "https://localhost:8080/",
          "height": 472
        },
        "id": "SH3akvj7Evl6",
        "outputId": "1a995af0-d565-425f-9143-c55c02863c87"
      },
      "execution_count": null,
      "outputs": [
        {
          "output_type": "display_data",
          "data": {
            "text/plain": [
              "<Figure size 640x480 with 1 Axes>"
            ],
            "image/png": "[encoded data removed]"
          },
          "metadata": {}
        }
      ]
    },
    {
      "cell_type": "markdown",
      "source": [
        "Change the data source to Breast Cancer dataset * available in the source code folder and make required\n",
        "changes. Report accuracy of the model."
      ],
      "metadata": {
        "id": "BI6QkwMvIVjx"
      }
    },
    {
      "cell_type": "code",
      "source": [
        "\n",
        "breast_cancer_data = pd.read_csv('breastcancer.csv')\n",
        "\n",
        "# Drop irrelevant columns\n",
        "breast_cancer_data.drop(['id', 'Unnamed: 32'], axis=1, inplace=True)\n",
        "\n",
        "# Convert labels to binary\n",
        "breast_cancer_data['diagnosis'] = breast_cancer_data['diagnosis'].map({'M': 1, 'B': 0})\n"
      ],
      "metadata": {
        "id": "I-7XxEEkHk02"
      },
      "execution_count": null,
      "outputs": []
    },
    {
      "cell_type": "code",
      "source": [
        "X = breast_cancer_data.drop('diagnosis', axis=1)\n",
        "y = breast_cancer_data['diagnosis']"
      ],
      "metadata": {
        "id": "kzteE61oHr2D"
      },
      "execution_count": null,
      "outputs": []
    },
    {
      "cell_type": "code",
      "source": [
        "X_train, X_test, Y_train, Y_test = train_test_split(X, y, test_size=0.25, random_state=87)\n",
        "\n",
        "# Set random seed for reproducibility\n",
        "np.random.seed(155)"
      ],
      "metadata": {
        "id": "HJ3DMXKJH4vs"
      },
      "execution_count": null,
      "outputs": []
    },
    {
      "cell_type": "code",
      "source": [
        "model = Sequential()\n",
        "model.add(Dense(20, input_dim=X_train.shape[1], activation='relu'))  # First hidden layer\n",
        "model.add(Dense(15, activation='relu'))  # Second hidden layer\n",
        "model.add(Dense(10, activation='relu'))  # Third hidden layer\n",
        "model.add(Dense(5, activation='relu'))   # Fourth hidden layer\n",
        "model.add(Dense(1, activation='sigmoid'))  # Output layer\n",
        "\n",
        "# Compile model\n",
        "model.compile(loss='binary_crossentropy', optimizer='adam', metrics=['accuracy'])\n"
      ],
      "metadata": {
        "id": "KKlKykzWH6Jz"
      },
      "execution_count": null,
      "outputs": []
    },
    {
      "cell_type": "code",
      "source": [
        "history = model.fit(X_train, Y_train, epochs=100, validation_split=0.2, initial_epoch=0)\n",
        "\n",
        "# Print model summary\n",
        "print(model.summary())"
      ],
      "metadata": {
        "colab": {
          "base_uri": "https://localhost:8080/"
        },
        "id": "4npFtuvlH8uL",
        "outputId": "51501df8-8f80-4240-88f6-6d1ef2718c55"
      },
      "execution_count": null,
      "outputs": [
        {
          "output_type": "stream",
          "name": "stdout",
          "text": [
            "Epoch 1/100\n",
            "11/11 [==============================] - 2s 26ms/step - loss: 2.4332 - accuracy: 0.5412 - val_loss: 0.6926 - val_accuracy: 0.5581\n",
            "Epoch 2/100\n",
            "11/11 [==============================] - 0s 6ms/step - loss: 0.6914 - accuracy: 0.6353 - val_loss: 0.6922 - val_accuracy: 0.5581\n",
            "Epoch 3/100\n",
            "11/11 [==============================] - 0s 5ms/step - loss: 0.6906 - accuracy: 0.6353 - val_loss: 0.6919 - val_accuracy: 0.5581\n",
            "Epoch 4/100\n",
            "11/11 [==============================] - 0s 6ms/step - loss: 0.6899 - accuracy: 0.6353 - val_loss: 0.6916 - val_accuracy: 0.5581\n",
            "Epoch 5/100\n",
            "11/11 [==============================] - 0s 7ms/step - loss: 0.6891 - accuracy: 0.6353 - val_loss: 0.6913 - val_accuracy: 0.5581\n",
            "Epoch 6/100\n",
            "11/11 [==============================] - 0s 6ms/step - loss: 0.6884 - accuracy: 0.6353 - val_loss: 0.6910 - val_accuracy: 0.5581\n",
            "Epoch 7/100\n",
            "11/11 [==============================] - 0s 7ms/step - loss: 0.6876 - accuracy: 0.6353 - val_loss: 0.6907 - val_accuracy: 0.5581\n",
            "Epoch 8/100\n",
            "11/11 [==============================] - 0s 7ms/step - loss: 0.6868 - accuracy: 0.6353 - val_loss: 0.6904 - val_accuracy: 0.5581\n",
            "Epoch 9/100\n",
            "11/11 [==============================] - 0s 5ms/step - loss: 0.6861 - accuracy: 0.6353 - val_loss: 0.6901 - val_accuracy: 0.5581\n",
            "Epoch 10/100\n",
            "11/11 [==============================] - 0s 5ms/step - loss: 0.6852 - accuracy: 0.6353 - val_loss: 0.6899 - val_accuracy: 0.5581\n",
            "Epoch 11/100\n",
            "11/11 [==============================] - 0s 5ms/step - loss: 0.6845 - accuracy: 0.6353 - val_loss: 0.6896 - val_accuracy: 0.5581\n",
            "Epoch 12/100\n",
            "11/11 [==============================] - 0s 7ms/step - loss: 0.6836 - accuracy: 0.6353 - val_loss: 0.6893 - val_accuracy: 0.5581\n",
            "Epoch 13/100\n",
            "11/11 [==============================] - 0s 7ms/step - loss: 0.6829 - accuracy: 0.6353 - val_loss: 0.6891 - val_accuracy: 0.5581\n",
            "Epoch 14/100\n",
            "11/11 [==============================] - 0s 5ms/step - loss: 0.6821 - accuracy: 0.6353 - val_loss: 0.6888 - val_accuracy: 0.5581\n",
            "Epoch 15/100\n",
            "11/11 [==============================] - 0s 7ms/step - loss: 0.6813 - accuracy: 0.6353 - val_loss: 0.6886 - val_accuracy: 0.5581\n",
            "Epoch 16/100\n",
            "11/11 [==============================] - 0s 7ms/step - loss: 0.6804 - accuracy: 0.6353 - val_loss: 0.6884 - val_accuracy: 0.5581\n",
            "Epoch 17/100\n",
            "11/11 [==============================] - 0s 8ms/step - loss: 0.6798 - accuracy: 0.6353 - val_loss: 0.6881 - val_accuracy: 0.5581\n",
            "Epoch 18/100\n",
            "11/11 [==============================] - 0s 6ms/step - loss: 0.6790 - accuracy: 0.6353 - val_loss: 0.6879 - val_accuracy: 0.5581\n",
            "Epoch 19/100\n",
            "11/11 [==============================] - 0s 7ms/step - loss: 0.6782 - accuracy: 0.6353 - val_loss: 0.6877 - val_accuracy: 0.5581\n",
            "Epoch 20/100\n",
            "11/11 [==============================] - 0s 8ms/step - loss: 0.6775 - accuracy: 0.6353 - val_loss: 0.6876 - val_accuracy: 0.5581\n",
            "Epoch 21/100\n",
            "11/11 [==============================] - 0s 6ms/step - loss: 0.6768 - accuracy: 0.6353 - val_loss: 0.6874 - val_accuracy: 0.5581\n",
            "Epoch 22/100\n",
            "11/11 [==============================] - 0s 7ms/step - loss: 0.6761 - accuracy: 0.6353 - val_loss: 0.6872 - val_accuracy: 0.5581\n",
            "Epoch 23/100\n",
            "11/11 [==============================] - 0s 7ms/step - loss: 0.6754 - accuracy: 0.6353 - val_loss: 0.6871 - val_accuracy: 0.5581\n",
            "Epoch 24/100\n",
            "11/11 [==============================] - 0s 7ms/step - loss: 0.6748 - accuracy: 0.6353 - val_loss: 0.6870 - val_accuracy: 0.5581\n",
            "Epoch 25/100\n",
            "11/11 [==============================] - 0s 7ms/step - loss: 0.6741 - accuracy: 0.6353 - val_loss: 0.6869 - val_accuracy: 0.5581\n",
            "Epoch 26/100\n",
            "11/11 [==============================] - 0s 5ms/step - loss: 0.6735 - accuracy: 0.6353 - val_loss: 0.6868 - val_accuracy: 0.5581\n",
            "Epoch 27/100\n",
            "11/11 [==============================] - 0s 7ms/step - loss: 0.6728 - accuracy: 0.6353 - val_loss: 0.6867 - val_accuracy: 0.5581\n",
            "Epoch 28/100\n",
            "11/11 [==============================] - 0s 5ms/step - loss: 0.6722 - accuracy: 0.6353 - val_loss: 0.6866 - val_accuracy: 0.5581\n",
            "Epoch 29/100\n",
            "11/11 [==============================] - 0s 7ms/step - loss: 0.6717 - accuracy: 0.6353 - val_loss: 0.6865 - val_accuracy: 0.5581\n",
            "Epoch 30/100\n",
            "11/11 [==============================] - 0s 5ms/step - loss: 0.6711 - accuracy: 0.6353 - val_loss: 0.6865 - val_accuracy: 0.5581\n",
            "Epoch 31/100\n",
            "11/11 [==============================] - 0s 6ms/step - loss: 0.6707 - accuracy: 0.6353 - val_loss: 0.6864 - val_accuracy: 0.5581\n",
            "Epoch 32/100\n",
            "11/11 [==============================] - 0s 9ms/step - loss: 0.6700 - accuracy: 0.6353 - val_loss: 0.6864 - val_accuracy: 0.5581\n",
            "Epoch 33/100\n",
            "11/11 [==============================] - 0s 6ms/step - loss: 0.6696 - accuracy: 0.6353 - val_loss: 0.6864 - val_accuracy: 0.5581\n",
            "Epoch 34/100\n",
            "11/11 [==============================] - 0s 5ms/step - loss: 0.6691 - accuracy: 0.6353 - val_loss: 0.6864 - val_accuracy: 0.5581\n",
            "Epoch 35/100\n",
            "11/11 [==============================] - 0s 5ms/step - loss: 0.6686 - accuracy: 0.6353 - val_loss: 0.6864 - val_accuracy: 0.5581\n",
            "Epoch 36/100\n",
            "11/11 [==============================] - 0s 7ms/step - loss: 0.6682 - accuracy: 0.6353 - val_loss: 0.6864 - val_accuracy: 0.5581\n",
            "Epoch 37/100\n",
            "11/11 [==============================] - 0s 7ms/step - loss: 0.6677 - accuracy: 0.6353 - val_loss: 0.6864 - val_accuracy: 0.5581\n",
            "Epoch 38/100\n",
            "11/11 [==============================] - 0s 7ms/step - loss: 0.6673 - accuracy: 0.6353 - val_loss: 0.6864 - val_accuracy: 0.5581\n",
            "Epoch 39/100\n",
            "11/11 [==============================] - 0s 7ms/step - loss: 0.6669 - accuracy: 0.6353 - val_loss: 0.6864 - val_accuracy: 0.5581\n",
            "Epoch 40/100\n",
            "11/11 [==============================] - 0s 7ms/step - loss: 0.6665 - accuracy: 0.6353 - val_loss: 0.6865 - val_accuracy: 0.5581\n",
            "Epoch 41/100\n",
            "11/11 [==============================] - 0s 5ms/step - loss: 0.6661 - accuracy: 0.6353 - val_loss: 0.6865 - val_accuracy: 0.5581\n",
            "Epoch 42/100\n",
            "11/11 [==============================] - 0s 7ms/step - loss: 0.6658 - accuracy: 0.6353 - val_loss: 0.6866 - val_accuracy: 0.5581\n",
            "Epoch 43/100\n",
            "11/11 [==============================] - 0s 6ms/step - loss: 0.6654 - accuracy: 0.6353 - val_loss: 0.6866 - val_accuracy: 0.5581\n",
            "Epoch 44/100\n",
            "11/11 [==============================] - 0s 5ms/step - loss: 0.6650 - accuracy: 0.6353 - val_loss: 0.6867 - val_accuracy: 0.5581\n",
            "Epoch 45/100\n",
            "11/11 [==============================] - 0s 8ms/step - loss: 0.6647 - accuracy: 0.6353 - val_loss: 0.6867 - val_accuracy: 0.5581\n",
            "Epoch 46/100\n",
            "11/11 [==============================] - 0s 8ms/step - loss: 0.6644 - accuracy: 0.6353 - val_loss: 0.6868 - val_accuracy: 0.5581\n",
            "Epoch 47/100\n",
            "11/11 [==============================] - 0s 6ms/step - loss: 0.6640 - accuracy: 0.6353 - val_loss: 0.6869 - val_accuracy: 0.5581\n",
            "Epoch 48/100\n",
            "11/11 [==============================] - 0s 7ms/step - loss: 0.6637 - accuracy: 0.6353 - val_loss: 0.6870 - val_accuracy: 0.5581\n",
            "Epoch 49/100\n",
            "11/11 [==============================] - 0s 5ms/step - loss: 0.6634 - accuracy: 0.6353 - val_loss: 0.6871 - val_accuracy: 0.5581\n",
            "Epoch 50/100\n",
            "11/11 [==============================] - 0s 8ms/step - loss: 0.6631 - accuracy: 0.6353 - val_loss: 0.6871 - val_accuracy: 0.5581\n",
            "Epoch 51/100\n",
            "11/11 [==============================] - 0s 5ms/step - loss: 0.6629 - accuracy: 0.6353 - val_loss: 0.6873 - val_accuracy: 0.5581\n",
            "Epoch 52/100\n",
            "11/11 [==============================] - 0s 5ms/step - loss: 0.6626 - accuracy: 0.6353 - val_loss: 0.6874 - val_accuracy: 0.5581\n",
            "Epoch 53/100\n",
            "11/11 [==============================] - 0s 5ms/step - loss: 0.6623 - accuracy: 0.6353 - val_loss: 0.6875 - val_accuracy: 0.5581\n",
            "Epoch 54/100\n",
            "11/11 [==============================] - 0s 7ms/step - loss: 0.6620 - accuracy: 0.6353 - val_loss: 0.6876 - val_accuracy: 0.5581\n",
            "Epoch 55/100\n",
            "11/11 [==============================] - 0s 7ms/step - loss: 0.6618 - accuracy: 0.6353 - val_loss: 0.6877 - val_accuracy: 0.5581\n",
            "Epoch 56/100\n",
            "11/11 [==============================] - 0s 7ms/step - loss: 0.6616 - accuracy: 0.6353 - val_loss: 0.6878 - val_accuracy: 0.5581\n",
            "Epoch 57/100\n",
            "11/11 [==============================] - 0s 7ms/step - loss: 0.6614 - accuracy: 0.6353 - val_loss: 0.6879 - val_accuracy: 0.5581\n",
            "Epoch 58/100\n",
            "11/11 [==============================] - 0s 8ms/step - loss: 0.6612 - accuracy: 0.6353 - val_loss: 0.6880 - val_accuracy: 0.5581\n",
            "Epoch 59/100\n",
            "11/11 [==============================] - 0s 8ms/step - loss: 0.6610 - accuracy: 0.6353 - val_loss: 0.6881 - val_accuracy: 0.5581\n",
            "Epoch 60/100\n",
            "11/11 [==============================] - 0s 7ms/step - loss: 0.6608 - accuracy: 0.6353 - val_loss: 0.6883 - val_accuracy: 0.5581\n",
            "Epoch 61/100\n",
            "11/11 [==============================] - 0s 7ms/step - loss: 0.6606 - accuracy: 0.6353 - val_loss: 0.6884 - val_accuracy: 0.5581\n",
            "Epoch 62/100\n",
            "11/11 [==============================] - 0s 7ms/step - loss: 0.6604 - accuracy: 0.6353 - val_loss: 0.6885 - val_accuracy: 0.5581\n",
            "Epoch 63/100\n",
            "11/11 [==============================] - 0s 7ms/step - loss: 0.6602 - accuracy: 0.6353 - val_loss: 0.6886 - val_accuracy: 0.5581\n",
            "Epoch 64/100\n",
            "11/11 [==============================] - 0s 7ms/step - loss: 0.6601 - accuracy: 0.6353 - val_loss: 0.6887 - val_accuracy: 0.5581\n",
            "Epoch 65/100\n",
            "11/11 [==============================] - 0s 5ms/step - loss: 0.6599 - accuracy: 0.6353 - val_loss: 0.6889 - val_accuracy: 0.5581\n",
            "Epoch 66/100\n",
            "11/11 [==============================] - 0s 6ms/step - loss: 0.6597 - accuracy: 0.6353 - val_loss: 0.6890 - val_accuracy: 0.5581\n",
            "Epoch 67/100\n",
            "11/11 [==============================] - 0s 6ms/step - loss: 0.6596 - accuracy: 0.6353 - val_loss: 0.6892 - val_accuracy: 0.5581\n",
            "Epoch 68/100\n",
            "11/11 [==============================] - 0s 5ms/step - loss: 0.6594 - accuracy: 0.6353 - val_loss: 0.6893 - val_accuracy: 0.5581\n",
            "Epoch 69/100\n",
            "11/11 [==============================] - 0s 6ms/step - loss: 0.6593 - accuracy: 0.6353 - val_loss: 0.6894 - val_accuracy: 0.5581\n",
            "Epoch 70/100\n",
            "11/11 [==============================] - 0s 8ms/step - loss: 0.6591 - accuracy: 0.6353 - val_loss: 0.6896 - val_accuracy: 0.5581\n",
            "Epoch 71/100\n",
            "11/11 [==============================] - 0s 8ms/step - loss: 0.6590 - accuracy: 0.6353 - val_loss: 0.6898 - val_accuracy: 0.5581\n",
            "Epoch 72/100\n",
            "11/11 [==============================] - 0s 7ms/step - loss: 0.6588 - accuracy: 0.6353 - val_loss: 0.6898 - val_accuracy: 0.5581\n",
            "Epoch 73/100\n",
            "11/11 [==============================] - 0s 7ms/step - loss: 0.6587 - accuracy: 0.6353 - val_loss: 0.6900 - val_accuracy: 0.5581\n",
            "Epoch 74/100\n",
            "11/11 [==============================] - 0s 6ms/step - loss: 0.6587 - accuracy: 0.6353 - val_loss: 0.6902 - val_accuracy: 0.5581\n",
            "Epoch 75/100\n",
            "11/11 [==============================] - 0s 5ms/step - loss: 0.6585 - accuracy: 0.6353 - val_loss: 0.6903 - val_accuracy: 0.5581\n",
            "Epoch 76/100\n",
            "11/11 [==============================] - 0s 7ms/step - loss: 0.6584 - accuracy: 0.6353 - val_loss: 0.6904 - val_accuracy: 0.5581\n",
            "Epoch 77/100\n",
            "11/11 [==============================] - 0s 6ms/step - loss: 0.6583 - accuracy: 0.6353 - val_loss: 0.6905 - val_accuracy: 0.5581\n",
            "Epoch 78/100\n",
            "11/11 [==============================] - 0s 7ms/step - loss: 0.6582 - accuracy: 0.6353 - val_loss: 0.6907 - val_accuracy: 0.5581\n",
            "Epoch 79/100\n",
            "11/11 [==============================] - 0s 6ms/step - loss: 0.6581 - accuracy: 0.6353 - val_loss: 0.6909 - val_accuracy: 0.5581\n",
            "Epoch 80/100\n",
            "11/11 [==============================] - 0s 5ms/step - loss: 0.6580 - accuracy: 0.6353 - val_loss: 0.6910 - val_accuracy: 0.5581\n",
            "Epoch 81/100\n",
            "11/11 [==============================] - 0s 6ms/step - loss: 0.6579 - accuracy: 0.6353 - val_loss: 0.6912 - val_accuracy: 0.5581\n",
            "Epoch 82/100\n",
            "11/11 [==============================] - 0s 5ms/step - loss: 0.6578 - accuracy: 0.6353 - val_loss: 0.6912 - val_accuracy: 0.5581\n",
            "Epoch 83/100\n",
            "11/11 [==============================] - 0s 9ms/step - loss: 0.6578 - accuracy: 0.6353 - val_loss: 0.6914 - val_accuracy: 0.5581\n",
            "Epoch 84/100\n",
            "11/11 [==============================] - 0s 7ms/step - loss: 0.6577 - accuracy: 0.6353 - val_loss: 0.6915 - val_accuracy: 0.5581\n",
            "Epoch 85/100\n",
            "11/11 [==============================] - 0s 8ms/step - loss: 0.6576 - accuracy: 0.6353 - val_loss: 0.6917 - val_accuracy: 0.5581\n",
            "Epoch 86/100\n",
            "11/11 [==============================] - 0s 6ms/step - loss: 0.6575 - accuracy: 0.6353 - val_loss: 0.6918 - val_accuracy: 0.5581\n",
            "Epoch 87/100\n",
            "11/11 [==============================] - 0s 6ms/step - loss: 0.6575 - accuracy: 0.6353 - val_loss: 0.6919 - val_accuracy: 0.5581\n",
            "Epoch 88/100\n",
            "11/11 [==============================] - 0s 7ms/step - loss: 0.6574 - accuracy: 0.6353 - val_loss: 0.6921 - val_accuracy: 0.5581\n",
            "Epoch 89/100\n",
            "11/11 [==============================] - 0s 7ms/step - loss: 0.6574 - accuracy: 0.6353 - val_loss: 0.6922 - val_accuracy: 0.5581\n",
            "Epoch 90/100\n",
            "11/11 [==============================] - 0s 5ms/step - loss: 0.6573 - accuracy: 0.6353 - val_loss: 0.6924 - val_accuracy: 0.5581\n",
            "Epoch 91/100\n",
            "11/11 [==============================] - 0s 7ms/step - loss: 0.6572 - accuracy: 0.6353 - val_loss: 0.6925 - val_accuracy: 0.5581\n",
            "Epoch 92/100\n",
            "11/11 [==============================] - 0s 6ms/step - loss: 0.6572 - accuracy: 0.6353 - val_loss: 0.6925 - val_accuracy: 0.5581\n",
            "Epoch 93/100\n",
            "11/11 [==============================] - 0s 6ms/step - loss: 0.6571 - accuracy: 0.6353 - val_loss: 0.6926 - val_accuracy: 0.5581\n",
            "Epoch 94/100\n",
            "11/11 [==============================] - 0s 7ms/step - loss: 0.6571 - accuracy: 0.6353 - val_loss: 0.6928 - val_accuracy: 0.5581\n",
            "Epoch 95/100\n",
            "11/11 [==============================] - 0s 6ms/step - loss: 0.6570 - accuracy: 0.6353 - val_loss: 0.6929 - val_accuracy: 0.5581\n",
            "Epoch 96/100\n",
            "11/11 [==============================] - 0s 10ms/step - loss: 0.6570 - accuracy: 0.6353 - val_loss: 0.6931 - val_accuracy: 0.5581\n",
            "Epoch 97/100\n",
            "11/11 [==============================] - 0s 8ms/step - loss: 0.6569 - accuracy: 0.6353 - val_loss: 0.6932 - val_accuracy: 0.5581\n",
            "Epoch 98/100\n",
            "11/11 [==============================] - 0s 8ms/step - loss: 0.6569 - accuracy: 0.6353 - val_loss: 0.6933 - val_accuracy: 0.5581\n",
            "Epoch 99/100\n",
            "11/11 [==============================] - 0s 7ms/step - loss: 0.6569 - accuracy: 0.6353 - val_loss: 0.6935 - val_accuracy: 0.5581\n",
            "Epoch 100/100\n",
            "11/11 [==============================] - 0s 6ms/step - loss: 0.6568 - accuracy: 0.6353 - val_loss: 0.6936 - val_accuracy: 0.5581\n",
            "Model: \"sequential_5\"\n",
            "_________________________________________________________________\n",
            " Layer (type)                Output Shape              Param #   \n",
            "=================================================================\n",
            " dense_19 (Dense)            (None, 20)                620       \n",
            "                                                                 \n",
            " dense_20 (Dense)            (None, 15)                315       \n",
            "                                                                 \n",
            " dense_21 (Dense)            (None, 10)                160       \n",
            "                                                                 \n",
            " dense_22 (Dense)            (None, 5)                 55        \n",
            "                                                                 \n",
            " dense_23 (Dense)            (None, 1)                 6         \n",
            "                                                                 \n",
            "=================================================================\n",
            "Total params: 1156 (4.52 KB)\n",
            "Trainable params: 1156 (4.52 KB)\n",
            "Non-trainable params: 0 (0.00 Byte)\n",
            "_________________________________________________________________\n",
            "None\n"
          ]
        }
      ]
    },
    {
      "cell_type": "code",
      "source": [
        "loss, accuracy = model.evaluate(X_test, Y_test)\n",
        "print(f\"Model loss: {loss:.4f}\")\n",
        "print(f\"Model accuracy: {accuracy:.4f}\")"
      ],
      "metadata": {
        "colab": {
          "base_uri": "https://localhost:8080/"
        },
        "id": "EcbpEpdNIACj",
        "outputId": "39610762-4a3c-4d75-c5f6-c6243df522f5"
      },
      "execution_count": null,
      "outputs": [
        {
          "output_type": "stream",
          "name": "stdout",
          "text": [
            "5/5 [==============================] - 0s 3ms/step - loss: 0.6496 - accuracy: 0.6503\n",
            "Model loss: 0.6496\n",
            "Model accuracy: 0.6503\n"
          ]
        }
      ]
    },
    {
      "cell_type": "code",
      "source": [
        "plt.plot(history.history['accuracy'])\n",
        "plt.plot(history.history['val_accuracy'])\n",
        "plt.title('Model Accuracy')\n",
        "plt.ylabel('Accuracy')\n",
        "plt.xlabel('Epoch')\n",
        "plt.legend(['Train', 'Validation'], loc='upper left')\n",
        "plt.show()\n"
      ],
      "metadata": {
        "colab": {
          "base_uri": "https://localhost:8080/",
          "height": 472
        },
        "id": "xBuYZ-deIDsT",
        "outputId": "743ae694-c9ff-44e5-d738-0df7231c4069"
      },
      "execution_count": null,
      "outputs": [
        {
          "output_type": "display_data",
          "data": {
            "text/plain": [
              "<Figure size 640x480 with 1 Axes>"
            ],
            "image/png": "[encoded data removed]"
          },
          "metadata": {}
        }
      ]
    },
    {
      "cell_type": "markdown",
      "source": [
        "Normalize the data before feeding the data to the model and check how the normalization change your\n",
        "accuracy (code given below)."
      ],
      "metadata": {
        "id": "SMtn3_mgIoh-"
      }
    },
    {
      "cell_type": "code",
      "source": [
        "from sklearn.preprocessing import StandardScaler"
      ],
      "metadata": {
        "id": "uVh-m0a6I51j"
      },
      "execution_count": null,
      "outputs": []
    },
    {
      "cell_type": "code",
      "source": [
        "scaler = StandardScaler()\n",
        "X = scaler.fit_transform(X)\n",
        "\n",
        "# Split the dataset into training and testing sets\n",
        "X_train, X_test, Y_train, Y_test = train_test_split(X, y, test_size=0.25, random_state=87)\n",
        "\n",
        "# Set random seed for reproducibility\n",
        "np.random.seed(155)\n",
        "\n",
        "# Create model with additional Dense layers\n",
        "model = Sequential()\n",
        "model.add(Dense(20, input_dim=X_train.shape[1], activation='relu'))  # First hidden layer\n",
        "model.add(Dense(15, activation='relu'))  # Second hidden layer\n",
        "model.add(Dense(10, activation='relu'))  # Third hidden layer\n",
        "model.add(Dense(5, activation='relu'))   # Fourth hidden layer\n",
        "model.add(Dense(1, activation='sigmoid'))  # Output layer"
      ],
      "metadata": {
        "id": "moJsLE4TIGTq"
      },
      "execution_count": null,
      "outputs": []
    },
    {
      "cell_type": "code",
      "source": [
        "model.compile(loss='binary_crossentropy', optimizer='adam', metrics=['accuracy'])\n"
      ],
      "metadata": {
        "id": "CApQV14bI-M1"
      },
      "execution_count": null,
      "outputs": []
    },
    {
      "cell_type": "code",
      "source": [
        "history = model.fit(X_train, Y_train, epochs=100, validation_split=0.2, initial_epoch=0)\n",
        "\n",
        "# Print model summary\n",
        "print(model.summary())"
      ],
      "metadata": {
        "colab": {
          "base_uri": "https://localhost:8080/"
        },
        "id": "-J30G_meI117",
        "outputId": "0e20d267-9164-41fb-9bf4-a9de1d403749"
      },
      "execution_count": null,
      "outputs": [
        {
          "output_type": "stream",
          "name": "stdout",
          "text": [
            "Epoch 1/100\n",
            "11/11 [==============================] - 1s 24ms/step - loss: 0.7371 - accuracy: 0.3529 - val_loss: 0.6889 - val_accuracy: 0.4419\n",
            "Epoch 2/100\n",
            "11/11 [==============================] - 0s 5ms/step - loss: 0.6872 - accuracy: 0.5118 - val_loss: 0.6559 - val_accuracy: 0.6512\n",
            "Epoch 3/100\n",
            "11/11 [==============================] - 0s 7ms/step - loss: 0.6415 - accuracy: 0.7353 - val_loss: 0.6021 - val_accuracy: 0.7791\n",
            "Epoch 4/100\n",
            "11/11 [==============================] - 0s 8ms/step - loss: 0.5793 - accuracy: 0.8588 - val_loss: 0.5280 - val_accuracy: 0.8605\n",
            "Epoch 5/100\n",
            "11/11 [==============================] - 0s 5ms/step - loss: 0.5005 - accuracy: 0.8794 - val_loss: 0.4418 - val_accuracy: 0.9070\n",
            "Epoch 6/100\n",
            "11/11 [==============================] - 0s 5ms/step - loss: 0.4175 - accuracy: 0.8941 - val_loss: 0.3543 - val_accuracy: 0.9302\n",
            "Epoch 7/100\n",
            "11/11 [==============================] - 0s 7ms/step - loss: 0.3361 - accuracy: 0.9029 - val_loss: 0.2784 - val_accuracy: 0.9535\n",
            "Epoch 8/100\n",
            "11/11 [==============================] - 0s 5ms/step - loss: 0.2652 - accuracy: 0.9235 - val_loss: 0.2161 - val_accuracy: 0.9651\n",
            "Epoch 9/100\n",
            "11/11 [==============================] - 0s 7ms/step - loss: 0.2104 - accuracy: 0.9412 - val_loss: 0.1684 - val_accuracy: 0.9651\n",
            "Epoch 10/100\n",
            "11/11 [==============================] - 0s 7ms/step - loss: 0.1690 - accuracy: 0.9559 - val_loss: 0.1335 - val_accuracy: 0.9767\n",
            "Epoch 11/100\n",
            "11/11 [==============================] - 0s 8ms/step - loss: 0.1416 - accuracy: 0.9647 - val_loss: 0.1080 - val_accuracy: 0.9884\n",
            "Epoch 12/100\n",
            "11/11 [==============================] - 0s 7ms/step - loss: 0.1216 - accuracy: 0.9676 - val_loss: 0.0908 - val_accuracy: 1.0000\n",
            "Epoch 13/100\n",
            "11/11 [==============================] - 0s 5ms/step - loss: 0.1068 - accuracy: 0.9676 - val_loss: 0.0791 - val_accuracy: 1.0000\n",
            "Epoch 14/100\n",
            "11/11 [==============================] - 0s 7ms/step - loss: 0.0966 - accuracy: 0.9706 - val_loss: 0.0707 - val_accuracy: 1.0000\n",
            "Epoch 15/100\n",
            "11/11 [==============================] - 0s 7ms/step - loss: 0.0891 - accuracy: 0.9706 - val_loss: 0.0626 - val_accuracy: 1.0000\n",
            "Epoch 16/100\n",
            "11/11 [==============================] - 0s 7ms/step - loss: 0.0822 - accuracy: 0.9765 - val_loss: 0.0596 - val_accuracy: 0.9884\n",
            "Epoch 17/100\n",
            "11/11 [==============================] - 0s 9ms/step - loss: 0.0761 - accuracy: 0.9794 - val_loss: 0.0559 - val_accuracy: 0.9884\n",
            "Epoch 18/100\n",
            "11/11 [==============================] - 0s 7ms/step - loss: 0.0707 - accuracy: 0.9794 - val_loss: 0.0517 - val_accuracy: 1.0000\n",
            "Epoch 19/100\n",
            "11/11 [==============================] - 0s 6ms/step - loss: 0.0662 - accuracy: 0.9794 - val_loss: 0.0498 - val_accuracy: 0.9884\n",
            "Epoch 20/100\n",
            "11/11 [==============================] - 0s 7ms/step - loss: 0.0625 - accuracy: 0.9853 - val_loss: 0.0457 - val_accuracy: 1.0000\n",
            "Epoch 21/100\n",
            "11/11 [==============================] - 0s 5ms/step - loss: 0.0585 - accuracy: 0.9853 - val_loss: 0.0446 - val_accuracy: 0.9884\n",
            "Epoch 22/100\n",
            "11/11 [==============================] - 0s 7ms/step - loss: 0.0555 - accuracy: 0.9853 - val_loss: 0.0425 - val_accuracy: 0.9884\n",
            "Epoch 23/100\n",
            "11/11 [==============================] - 0s 7ms/step - loss: 0.0526 - accuracy: 0.9853 - val_loss: 0.0423 - val_accuracy: 0.9884\n",
            "Epoch 24/100\n",
            "11/11 [==============================] - 0s 7ms/step - loss: 0.0510 - accuracy: 0.9853 - val_loss: 0.0384 - val_accuracy: 1.0000\n",
            "Epoch 25/100\n",
            "11/11 [==============================] - 0s 6ms/step - loss: 0.0482 - accuracy: 0.9882 - val_loss: 0.0421 - val_accuracy: 0.9884\n",
            "Epoch 26/100\n",
            "11/11 [==============================] - 0s 5ms/step - loss: 0.0452 - accuracy: 0.9912 - val_loss: 0.0398 - val_accuracy: 0.9884\n",
            "Epoch 27/100\n",
            "11/11 [==============================] - 0s 6ms/step - loss: 0.0430 - accuracy: 0.9912 - val_loss: 0.0377 - val_accuracy: 0.9884\n",
            "Epoch 28/100\n",
            "11/11 [==============================] - 0s 7ms/step - loss: 0.0412 - accuracy: 0.9912 - val_loss: 0.0361 - val_accuracy: 0.9884\n",
            "Epoch 29/100\n",
            "11/11 [==============================] - 0s 7ms/step - loss: 0.0396 - accuracy: 0.9912 - val_loss: 0.0356 - val_accuracy: 0.9884\n",
            "Epoch 30/100\n",
            "11/11 [==============================] - 0s 7ms/step - loss: 0.0379 - accuracy: 0.9912 - val_loss: 0.0352 - val_accuracy: 0.9884\n",
            "Epoch 31/100\n",
            "11/11 [==============================] - 0s 8ms/step - loss: 0.0362 - accuracy: 0.9912 - val_loss: 0.0344 - val_accuracy: 0.9884\n",
            "Epoch 32/100\n",
            "11/11 [==============================] - 0s 6ms/step - loss: 0.0348 - accuracy: 0.9912 - val_loss: 0.0347 - val_accuracy: 0.9884\n",
            "Epoch 33/100\n",
            "11/11 [==============================] - 0s 7ms/step - loss: 0.0333 - accuracy: 0.9912 - val_loss: 0.0343 - val_accuracy: 0.9884\n",
            "Epoch 34/100\n",
            "11/11 [==============================] - 0s 7ms/step - loss: 0.0327 - accuracy: 0.9912 - val_loss: 0.0323 - val_accuracy: 0.9884\n",
            "Epoch 35/100\n",
            "11/11 [==============================] - 0s 7ms/step - loss: 0.0312 - accuracy: 0.9912 - val_loss: 0.0320 - val_accuracy: 0.9884\n",
            "Epoch 36/100\n",
            "11/11 [==============================] - 0s 5ms/step - loss: 0.0301 - accuracy: 0.9912 - val_loss: 0.0372 - val_accuracy: 0.9884\n",
            "Epoch 37/100\n",
            "11/11 [==============================] - 0s 7ms/step - loss: 0.0289 - accuracy: 0.9912 - val_loss: 0.0336 - val_accuracy: 0.9884\n",
            "Epoch 38/100\n",
            "11/11 [==============================] - 0s 7ms/step - loss: 0.0277 - accuracy: 0.9912 - val_loss: 0.0322 - val_accuracy: 0.9884\n",
            "Epoch 39/100\n",
            "11/11 [==============================] - 0s 8ms/step - loss: 0.0264 - accuracy: 0.9912 - val_loss: 0.0330 - val_accuracy: 0.9884\n",
            "Epoch 40/100\n",
            "11/11 [==============================] - 0s 5ms/step - loss: 0.0255 - accuracy: 0.9912 - val_loss: 0.0341 - val_accuracy: 0.9884\n",
            "Epoch 41/100\n",
            "11/11 [==============================] - 0s 7ms/step - loss: 0.0245 - accuracy: 0.9941 - val_loss: 0.0340 - val_accuracy: 0.9884\n",
            "Epoch 42/100\n",
            "11/11 [==============================] - 0s 7ms/step - loss: 0.0243 - accuracy: 0.9912 - val_loss: 0.0314 - val_accuracy: 0.9884\n",
            "Epoch 43/100\n",
            "11/11 [==============================] - 0s 7ms/step - loss: 0.0230 - accuracy: 0.9912 - val_loss: 0.0325 - val_accuracy: 0.9884\n",
            "Epoch 44/100\n",
            "11/11 [==============================] - 0s 7ms/step - loss: 0.0218 - accuracy: 0.9971 - val_loss: 0.0344 - val_accuracy: 0.9884\n",
            "Epoch 45/100\n",
            "11/11 [==============================] - 0s 5ms/step - loss: 0.0210 - accuracy: 0.9971 - val_loss: 0.0355 - val_accuracy: 0.9884\n",
            "Epoch 46/100\n",
            "11/11 [==============================] - 0s 5ms/step - loss: 0.0207 - accuracy: 0.9971 - val_loss: 0.0325 - val_accuracy: 0.9884\n",
            "Epoch 47/100\n",
            "11/11 [==============================] - 0s 7ms/step - loss: 0.0198 - accuracy: 0.9971 - val_loss: 0.0315 - val_accuracy: 0.9884\n",
            "Epoch 48/100\n",
            "11/11 [==============================] - 0s 5ms/step - loss: 0.0186 - accuracy: 0.9971 - val_loss: 0.0327 - val_accuracy: 0.9884\n",
            "Epoch 49/100\n",
            "11/11 [==============================] - 0s 5ms/step - loss: 0.0180 - accuracy: 0.9971 - val_loss: 0.0305 - val_accuracy: 0.9884\n",
            "Epoch 50/100\n",
            "11/11 [==============================] - 0s 5ms/step - loss: 0.0173 - accuracy: 0.9971 - val_loss: 0.0307 - val_accuracy: 0.9884\n",
            "Epoch 51/100\n",
            "11/11 [==============================] - 0s 5ms/step - loss: 0.0167 - accuracy: 0.9971 - val_loss: 0.0307 - val_accuracy: 0.9884\n",
            "Epoch 52/100\n",
            "11/11 [==============================] - 0s 7ms/step - loss: 0.0163 - accuracy: 0.9971 - val_loss: 0.0303 - val_accuracy: 0.9884\n",
            "Epoch 53/100\n",
            "11/11 [==============================] - 0s 6ms/step - loss: 0.0154 - accuracy: 0.9971 - val_loss: 0.0284 - val_accuracy: 0.9884\n",
            "Epoch 54/100\n",
            "11/11 [==============================] - 0s 8ms/step - loss: 0.0149 - accuracy: 0.9971 - val_loss: 0.0293 - val_accuracy: 0.9884\n",
            "Epoch 55/100\n",
            "11/11 [==============================] - 0s 6ms/step - loss: 0.0143 - accuracy: 0.9971 - val_loss: 0.0325 - val_accuracy: 0.9884\n",
            "Epoch 56/100\n",
            "11/11 [==============================] - 0s 8ms/step - loss: 0.0138 - accuracy: 0.9971 - val_loss: 0.0332 - val_accuracy: 0.9884\n",
            "Epoch 57/100\n",
            "11/11 [==============================] - 0s 8ms/step - loss: 0.0118 - accuracy: 0.9971 - val_loss: 0.0324 - val_accuracy: 0.9884\n",
            "Epoch 58/100\n",
            "11/11 [==============================] - 0s 6ms/step - loss: 0.0105 - accuracy: 0.9971 - val_loss: 0.0366 - val_accuracy: 0.9767\n",
            "Epoch 59/100\n",
            "11/11 [==============================] - 0s 7ms/step - loss: 0.0085 - accuracy: 1.0000 - val_loss: 0.0369 - val_accuracy: 0.9767\n",
            "Epoch 60/100\n",
            "11/11 [==============================] - 0s 6ms/step - loss: 0.0076 - accuracy: 1.0000 - val_loss: 0.0352 - val_accuracy: 0.9884\n",
            "Epoch 61/100\n",
            "11/11 [==============================] - 0s 5ms/step - loss: 0.0071 - accuracy: 1.0000 - val_loss: 0.0375 - val_accuracy: 0.9767\n",
            "Epoch 62/100\n",
            "11/11 [==============================] - 0s 8ms/step - loss: 0.0065 - accuracy: 1.0000 - val_loss: 0.0350 - val_accuracy: 0.9884\n",
            "Epoch 63/100\n",
            "11/11 [==============================] - 0s 7ms/step - loss: 0.0059 - accuracy: 1.0000 - val_loss: 0.0357 - val_accuracy: 0.9884\n",
            "Epoch 64/100\n",
            "11/11 [==============================] - 0s 7ms/step - loss: 0.0053 - accuracy: 1.0000 - val_loss: 0.0361 - val_accuracy: 0.9884\n",
            "Epoch 65/100\n",
            "11/11 [==============================] - 0s 5ms/step - loss: 0.0050 - accuracy: 1.0000 - val_loss: 0.0359 - val_accuracy: 0.9884\n",
            "Epoch 66/100\n",
            "11/11 [==============================] - 0s 8ms/step - loss: 0.0050 - accuracy: 1.0000 - val_loss: 0.0328 - val_accuracy: 0.9884\n",
            "Epoch 67/100\n",
            "11/11 [==============================] - 0s 7ms/step - loss: 0.0045 - accuracy: 1.0000 - val_loss: 0.0385 - val_accuracy: 0.9884\n",
            "Epoch 68/100\n",
            "11/11 [==============================] - 0s 6ms/step - loss: 0.0043 - accuracy: 1.0000 - val_loss: 0.0325 - val_accuracy: 0.9884\n",
            "Epoch 69/100\n",
            "11/11 [==============================] - 0s 9ms/step - loss: 0.0038 - accuracy: 1.0000 - val_loss: 0.0349 - val_accuracy: 0.9884\n",
            "Epoch 70/100\n",
            "11/11 [==============================] - 0s 8ms/step - loss: 0.0037 - accuracy: 1.0000 - val_loss: 0.0327 - val_accuracy: 0.9884\n",
            "Epoch 71/100\n",
            "11/11 [==============================] - 0s 10ms/step - loss: 0.0034 - accuracy: 1.0000 - val_loss: 0.0338 - val_accuracy: 0.9884\n",
            "Epoch 72/100\n",
            "11/11 [==============================] - 0s 9ms/step - loss: 0.0032 - accuracy: 1.0000 - val_loss: 0.0334 - val_accuracy: 0.9884\n",
            "Epoch 73/100\n",
            "11/11 [==============================] - 0s 9ms/step - loss: 0.0030 - accuracy: 1.0000 - val_loss: 0.0332 - val_accuracy: 0.9884\n",
            "Epoch 74/100\n",
            "11/11 [==============================] - 0s 9ms/step - loss: 0.0029 - accuracy: 1.0000 - val_loss: 0.0333 - val_accuracy: 0.9884\n",
            "Epoch 75/100\n",
            "11/11 [==============================] - 0s 8ms/step - loss: 0.0027 - accuracy: 1.0000 - val_loss: 0.0329 - val_accuracy: 0.9884\n",
            "Epoch 76/100\n",
            "11/11 [==============================] - 0s 9ms/step - loss: 0.0025 - accuracy: 1.0000 - val_loss: 0.0332 - val_accuracy: 0.9884\n",
            "Epoch 77/100\n",
            "11/11 [==============================] - 0s 8ms/step - loss: 0.0024 - accuracy: 1.0000 - val_loss: 0.0338 - val_accuracy: 0.9884\n",
            "Epoch 78/100\n",
            "11/11 [==============================] - 0s 9ms/step - loss: 0.0022 - accuracy: 1.0000 - val_loss: 0.0321 - val_accuracy: 0.9884\n",
            "Epoch 79/100\n",
            "11/11 [==============================] - 0s 13ms/step - loss: 0.0021 - accuracy: 1.0000 - val_loss: 0.0313 - val_accuracy: 0.9767\n",
            "Epoch 80/100\n",
            "11/11 [==============================] - 0s 8ms/step - loss: 0.0020 - accuracy: 1.0000 - val_loss: 0.0320 - val_accuracy: 0.9884\n",
            "Epoch 81/100\n",
            "11/11 [==============================] - 0s 9ms/step - loss: 0.0019 - accuracy: 1.0000 - val_loss: 0.0310 - val_accuracy: 0.9767\n",
            "Epoch 82/100\n",
            "11/11 [==============================] - 0s 8ms/step - loss: 0.0018 - accuracy: 1.0000 - val_loss: 0.0317 - val_accuracy: 0.9767\n",
            "Epoch 83/100\n",
            "11/11 [==============================] - 0s 9ms/step - loss: 0.0017 - accuracy: 1.0000 - val_loss: 0.0300 - val_accuracy: 0.9767\n",
            "Epoch 84/100\n",
            "11/11 [==============================] - 0s 9ms/step - loss: 0.0017 - accuracy: 1.0000 - val_loss: 0.0300 - val_accuracy: 0.9767\n",
            "Epoch 85/100\n",
            "11/11 [==============================] - 0s 10ms/step - loss: 0.0016 - accuracy: 1.0000 - val_loss: 0.0311 - val_accuracy: 0.9767\n",
            "Epoch 86/100\n",
            "11/11 [==============================] - 0s 10ms/step - loss: 0.0015 - accuracy: 1.0000 - val_loss: 0.0302 - val_accuracy: 0.9767\n",
            "Epoch 87/100\n",
            "11/11 [==============================] - 0s 12ms/step - loss: 0.0015 - accuracy: 1.0000 - val_loss: 0.0287 - val_accuracy: 0.9767\n",
            "Epoch 88/100\n",
            "11/11 [==============================] - 0s 10ms/step - loss: 0.0014 - accuracy: 1.0000 - val_loss: 0.0298 - val_accuracy: 0.9767\n",
            "Epoch 89/100\n",
            "11/11 [==============================] - 0s 9ms/step - loss: 0.0014 - accuracy: 1.0000 - val_loss: 0.0297 - val_accuracy: 0.9767\n",
            "Epoch 90/100\n",
            "11/11 [==============================] - 0s 11ms/step - loss: 0.0013 - accuracy: 1.0000 - val_loss: 0.0311 - val_accuracy: 0.9767\n",
            "Epoch 91/100\n",
            "11/11 [==============================] - 0s 9ms/step - loss: 0.0012 - accuracy: 1.0000 - val_loss: 0.0303 - val_accuracy: 0.9767\n",
            "Epoch 92/100\n",
            "11/11 [==============================] - 0s 9ms/step - loss: 0.0012 - accuracy: 1.0000 - val_loss: 0.0302 - val_accuracy: 0.9767\n",
            "Epoch 93/100\n",
            "11/11 [==============================] - 0s 8ms/step - loss: 0.0011 - accuracy: 1.0000 - val_loss: 0.0293 - val_accuracy: 0.9767\n",
            "Epoch 94/100\n",
            "11/11 [==============================] - 0s 9ms/step - loss: 0.0011 - accuracy: 1.0000 - val_loss: 0.0291 - val_accuracy: 0.9767\n",
            "Epoch 95/100\n",
            "11/11 [==============================] - 0s 10ms/step - loss: 0.0011 - accuracy: 1.0000 - val_loss: 0.0293 - val_accuracy: 0.9767\n",
            "Epoch 96/100\n",
            "11/11 [==============================] - 0s 14ms/step - loss: 0.0010 - accuracy: 1.0000 - val_loss: 0.0297 - val_accuracy: 0.9767\n",
            "Epoch 97/100\n",
            "11/11 [==============================] - 0s 13ms/step - loss: 9.7062e-04 - accuracy: 1.0000 - val_loss: 0.0285 - val_accuracy: 0.9767\n",
            "Epoch 98/100\n",
            "11/11 [==============================] - 0s 11ms/step - loss: 9.6674e-04 - accuracy: 1.0000 - val_loss: 0.0292 - val_accuracy: 0.9767\n",
            "Epoch 99/100\n",
            "11/11 [==============================] - 0s 9ms/step - loss: 9.2196e-04 - accuracy: 1.0000 - val_loss: 0.0297 - val_accuracy: 0.9767\n",
            "Epoch 100/100\n",
            "11/11 [==============================] - 0s 5ms/step - loss: 9.0282e-04 - accuracy: 1.0000 - val_loss: 0.0291 - val_accuracy: 0.9767\n",
            "Model: \"sequential_8\"\n",
            "_________________________________________________________________\n",
            " Layer (type)                Output Shape              Param #   \n",
            "=================================================================\n",
            " dense_31 (Dense)            (None, 20)                620       \n",
            "                                                                 \n",
            " dense_32 (Dense)            (None, 15)                315       \n",
            "                                                                 \n",
            " dense_33 (Dense)            (None, 10)                160       \n",
            "                                                                 \n",
            " dense_34 (Dense)            (None, 5)                 55        \n",
            "                                                                 \n",
            " dense_35 (Dense)            (None, 1)                 6         \n",
            "                                                                 \n",
            "=================================================================\n",
            "Total params: 1156 (4.52 KB)\n",
            "Trainable params: 1156 (4.52 KB)\n",
            "Non-trainable params: 0 (0.00 Byte)\n",
            "_________________________________________________________________\n",
            "None\n"
          ]
        }
      ]
    },
    {
      "cell_type": "code",
      "source": [
        "loss, accuracy = model.evaluate(X_test, Y_test)\n",
        "print(f\"Model loss: {loss:.4f}\")\n",
        "print(f\"Model accuracy: {accuracy:.4f}\")"
      ],
      "metadata": {
        "colab": {
          "base_uri": "https://localhost:8080/"
        },
        "id": "UrpE9p_CJALS",
        "outputId": "d6165f35-9d00-4d8f-b523-193c8adfdb68"
      },
      "execution_count": null,
      "outputs": [
        {
          "output_type": "stream",
          "name": "stdout",
          "text": [
            "5/5 [==============================] - 0s 3ms/step - loss: 0.2049 - accuracy: 0.9720\n",
            "Model loss: 0.2049\n",
            "Model accuracy: 0.9720\n"
          ]
        }
      ]
    },
    {
      "cell_type": "code",
      "source": [
        "plt.plot(history.history['accuracy'])\n",
        "plt.plot(history.history['val_accuracy'])\n",
        "plt.title('Model Accuracy')\n",
        "plt.ylabel('Accuracy')\n",
        "plt.xlabel('Epoch')\n",
        "plt.legend(['Train', 'Validation'], loc='upper left')\n",
        "plt.show()"
      ],
      "metadata": {
        "colab": {
          "base_uri": "https://localhost:8080/",
          "height": 472
        },
        "id": "iem4vPvMJEB7",
        "outputId": "b8413c8f-e2a7-4241-8818-a62c321eb46c"
      },
      "execution_count": null,
      "outputs": [
        {
          "output_type": "display_data",
          "data": {
            "text/plain": [
              "<Figure size 640x480 with 1 Axes>"
            ],
            "image/png": "[encoded data removed]"
          },
          "metadata": {}
        }
      ]
    },
    {
      "cell_type": "code",
      "source": [],
      "metadata": {
        "id": "Yy78yiqVJGIb"
      },
      "execution_count": null,
      "outputs": []
    }
  ]
}