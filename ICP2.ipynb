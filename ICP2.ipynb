{
  "nbformat": 4,
  "nbformat_minor": 0,
  "metadata": {
    "colab": {
      "provenance": [],
      "authorship_tag": "ABX9TyNZB4WI5vEdVVJ05wwz9ntG",
      "include_colab_link": true
    },
    "kernelspec": {
      "name": "python3",
      "display_name": "Python 3"
    },
    "language_info": {
      "name": "python"
    }
  },
  "cells": [
    {
      "cell_type": "markdown",
      "metadata": {
        "id": "view-in-github",
        "colab_type": "text"
      },
      "source": [
        "<a href=\"https://colab.research.google.com/github/nagavarma9199/neural-networks/blob/main/ICP2.ipynb\" target=\"_parent\"><img src=\"https://colab.research.google.com/assets/colab-badge.svg\" alt=\"Open In Colab\"/></a>"
      ]
    },
    {
      "cell_type": "code",
      "execution_count": 16,
      "metadata": {
        "colab": {
          "base_uri": "https://localhost:8080/"
        },
        "id": "FclELl8GdYan",
        "outputId": "5a7e6a21-9217-40ac-cd4a-8cdd6f34325c"
      },
      "outputs": [
        {
          "output_type": "stream",
          "name": "stdout",
          "text": [
            "good\n",
            "evening\n",
            "good evening\n",
            "go vnn\n"
          ]
        }
      ],
      "source": [
        "def generate_full_name (first_name, last_name):\n",
        "    space = ' '\n",
        "    full_name = first_name + space + last_name\n",
        "    print(full_name)\n",
        "    return full_name\n",
        "\n",
        "def string_alternative(a,b):\n",
        "    fullname1=[]\n",
        "    fullname = list(generate_full_name(a,b))\n",
        "    for i in range(0,len(fullname),2):\n",
        "      if(fullname[i] == ' '):\n",
        "        fullname1.append(fullname[i])\n",
        "      else:\n",
        "        fullname1.append(fullname[i])\n",
        "    return ''.join(fullname1)\n",
        "\n",
        "a = input()\n",
        "b = input()\n",
        "print(string_alternative(a,b))"
      ]
    },
    {
      "cell_type": "code",
      "source": [
        "input = str('input.txt')\n",
        "output = str('output.txt')\n",
        "wordcount(input, output)\n",
        "def wordcount(input, output):\n",
        "    wc = {}\n",
        "    with open(input, 'r') as file:\n",
        "        lines = file.readlines()\n",
        "    for line in lines:\n",
        "        words = line.strip().split()\n",
        "        for word in words:\n",
        "            wc[word] = wc.get(word, 0) + 1\n",
        "    print(\"Word_Count:\")\n",
        "    for word, count in wc.items():\n",
        "        print(f\"{word}: {count}\")\n",
        "    with open(output, 'w') as file:\n",
        "        for line in lines:\n",
        "            file.write(line)\n",
        "        file.write(\"\\nWord_Count:\\n\")\n",
        "        for word, count in wc.items():\n",
        "            file.write(f\"{word}: {count}\\n\")"
      ],
      "metadata": {
        "colab": {
          "base_uri": "https://localhost:8080/"
        },
        "id": "rH9DiLxQh6sS",
        "outputId": "92bf15be-da32-4ced-85a3-2d3c31799ab8"
      },
      "execution_count": 25,
      "outputs": [
        {
          "output_type": "stream",
          "name": "stdout",
          "text": [
            "Word_Count:\n",
            "Python: 1\n",
            "Course: 2\n",
            "Deep: 1\n",
            "Learning: 1\n"
          ]
        }
      ]
    },
    {
      "cell_type": "code",
      "source": [
        "def nestedloops(inches):\n",
        "    heights = []\n",
        "    for height in inches:\n",
        "        cm = round(height * 2.54)\n",
        "        heights.append(cm)\n",
        "    return heights\n",
        "\n",
        "def comprehension(inches):\n",
        "    return [round(height * 2.54) for height in inches]\n",
        "\n",
        "n = int(input(\"Enter the number of heights: \"))\n",
        "inches = []\n",
        "for i in range(n):\n",
        "    height = float(input(\"Enter height :\"))\n",
        "    inches.append(height)\n",
        "nested_loop = nestedloops(inches)\n",
        "print(\"Heights using Nested loop:\", nested_loop)\n",
        "\n",
        "comprehension = comprehension(inches)\n",
        "print(\"Heights using comprehension:\", comprehension)\n",
        "\n"
      ],
      "metadata": {
        "colab": {
          "base_uri": "https://localhost:8080/"
        },
        "id": "Ys0Z1o5enT64",
        "outputId": "5d09ae36-0839-41a5-a5ac-4159fe621dca"
      },
      "execution_count": 1,
      "outputs": [
        {
          "output_type": "stream",
          "name": "stdout",
          "text": [
            "Enter the number of heights: 2\n",
            "Enter height :120\n",
            "Enter height :11\n",
            "Heights using Nested loop: [305, 28]\n",
            "Heights using comprehension: [305, 28]\n"
          ]
        }
      ]
    }
  ]
}